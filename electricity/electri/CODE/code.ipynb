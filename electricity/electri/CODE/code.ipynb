{
 "cells": [
  {
   "cell_type": "code",
   "execution_count": 2,
   "metadata": {},
   "outputs": [],
   "source": [
    "import pandas as pd\n",
    "import numpy as np"
   ]
  },
  {
   "cell_type": "code",
   "execution_count": 85,
   "metadata": {},
   "outputs": [
    {
     "data": {
      "text/html": [
       "<div>\n",
       "<style scoped>\n",
       "    .dataframe tbody tr th:only-of-type {\n",
       "        vertical-align: middle;\n",
       "    }\n",
       "\n",
       "    .dataframe tbody tr th {\n",
       "        vertical-align: top;\n",
       "    }\n",
       "\n",
       "    .dataframe thead th {\n",
       "        text-align: right;\n",
       "    }\n",
       "</style>\n",
       "<table border=\"1\" class=\"dataframe\">\n",
       "  <thead>\n",
       "    <tr style=\"text-align: right;\">\n",
       "      <th></th>\n",
       "      <th>time</th>\n",
       "      <th>generation biomass</th>\n",
       "      <th>generation fossil brown coal/lignite</th>\n",
       "      <th>generation fossil coal-derived gas</th>\n",
       "      <th>generation fossil gas</th>\n",
       "      <th>generation fossil hard coal</th>\n",
       "      <th>generation fossil oil</th>\n",
       "      <th>generation fossil oil shale</th>\n",
       "      <th>generation fossil peat</th>\n",
       "      <th>generation geothermal</th>\n",
       "      <th>...</th>\n",
       "      <th>generation waste</th>\n",
       "      <th>generation wind offshore</th>\n",
       "      <th>generation wind onshore</th>\n",
       "      <th>forecast solar day ahead</th>\n",
       "      <th>forecast wind offshore eday ahead</th>\n",
       "      <th>forecast wind onshore day ahead</th>\n",
       "      <th>total load forecast</th>\n",
       "      <th>total load actual</th>\n",
       "      <th>price day ahead</th>\n",
       "      <th>price actual</th>\n",
       "    </tr>\n",
       "  </thead>\n",
       "  <tbody>\n",
       "    <tr>\n",
       "      <th>0</th>\n",
       "      <td>2015-01-01 00:00:00+01:00</td>\n",
       "      <td>447.0</td>\n",
       "      <td>329.0</td>\n",
       "      <td>0.0</td>\n",
       "      <td>4844.0</td>\n",
       "      <td>4821.0</td>\n",
       "      <td>162.0</td>\n",
       "      <td>0.0</td>\n",
       "      <td>0.0</td>\n",
       "      <td>0.0</td>\n",
       "      <td>...</td>\n",
       "      <td>196.0</td>\n",
       "      <td>0.0</td>\n",
       "      <td>6378.0</td>\n",
       "      <td>17.0</td>\n",
       "      <td>NaN</td>\n",
       "      <td>6436.0</td>\n",
       "      <td>26118.0</td>\n",
       "      <td>25385.0</td>\n",
       "      <td>50.10</td>\n",
       "      <td>65.41</td>\n",
       "    </tr>\n",
       "    <tr>\n",
       "      <th>1</th>\n",
       "      <td>2015-01-01 01:00:00+01:00</td>\n",
       "      <td>449.0</td>\n",
       "      <td>328.0</td>\n",
       "      <td>0.0</td>\n",
       "      <td>5196.0</td>\n",
       "      <td>4755.0</td>\n",
       "      <td>158.0</td>\n",
       "      <td>0.0</td>\n",
       "      <td>0.0</td>\n",
       "      <td>0.0</td>\n",
       "      <td>...</td>\n",
       "      <td>195.0</td>\n",
       "      <td>0.0</td>\n",
       "      <td>5890.0</td>\n",
       "      <td>16.0</td>\n",
       "      <td>NaN</td>\n",
       "      <td>5856.0</td>\n",
       "      <td>24934.0</td>\n",
       "      <td>24382.0</td>\n",
       "      <td>48.10</td>\n",
       "      <td>64.92</td>\n",
       "    </tr>\n",
       "    <tr>\n",
       "      <th>2</th>\n",
       "      <td>2015-01-01 02:00:00+01:00</td>\n",
       "      <td>448.0</td>\n",
       "      <td>323.0</td>\n",
       "      <td>0.0</td>\n",
       "      <td>4857.0</td>\n",
       "      <td>4581.0</td>\n",
       "      <td>157.0</td>\n",
       "      <td>0.0</td>\n",
       "      <td>0.0</td>\n",
       "      <td>0.0</td>\n",
       "      <td>...</td>\n",
       "      <td>196.0</td>\n",
       "      <td>0.0</td>\n",
       "      <td>5461.0</td>\n",
       "      <td>8.0</td>\n",
       "      <td>NaN</td>\n",
       "      <td>5454.0</td>\n",
       "      <td>23515.0</td>\n",
       "      <td>22734.0</td>\n",
       "      <td>47.33</td>\n",
       "      <td>64.48</td>\n",
       "    </tr>\n",
       "    <tr>\n",
       "      <th>3</th>\n",
       "      <td>2015-01-01 03:00:00+01:00</td>\n",
       "      <td>438.0</td>\n",
       "      <td>254.0</td>\n",
       "      <td>0.0</td>\n",
       "      <td>4314.0</td>\n",
       "      <td>4131.0</td>\n",
       "      <td>160.0</td>\n",
       "      <td>0.0</td>\n",
       "      <td>0.0</td>\n",
       "      <td>0.0</td>\n",
       "      <td>...</td>\n",
       "      <td>191.0</td>\n",
       "      <td>0.0</td>\n",
       "      <td>5238.0</td>\n",
       "      <td>2.0</td>\n",
       "      <td>NaN</td>\n",
       "      <td>5151.0</td>\n",
       "      <td>22642.0</td>\n",
       "      <td>21286.0</td>\n",
       "      <td>42.27</td>\n",
       "      <td>59.32</td>\n",
       "    </tr>\n",
       "    <tr>\n",
       "      <th>4</th>\n",
       "      <td>2015-01-01 04:00:00+01:00</td>\n",
       "      <td>428.0</td>\n",
       "      <td>187.0</td>\n",
       "      <td>0.0</td>\n",
       "      <td>4130.0</td>\n",
       "      <td>3840.0</td>\n",
       "      <td>156.0</td>\n",
       "      <td>0.0</td>\n",
       "      <td>0.0</td>\n",
       "      <td>0.0</td>\n",
       "      <td>...</td>\n",
       "      <td>189.0</td>\n",
       "      <td>0.0</td>\n",
       "      <td>4935.0</td>\n",
       "      <td>9.0</td>\n",
       "      <td>NaN</td>\n",
       "      <td>4861.0</td>\n",
       "      <td>21785.0</td>\n",
       "      <td>20264.0</td>\n",
       "      <td>38.41</td>\n",
       "      <td>56.04</td>\n",
       "    </tr>\n",
       "  </tbody>\n",
       "</table>\n",
       "<p>5 rows × 29 columns</p>\n",
       "</div>"
      ],
      "text/plain": [
       "                        time  generation biomass  \\\n",
       "0  2015-01-01 00:00:00+01:00               447.0   \n",
       "1  2015-01-01 01:00:00+01:00               449.0   \n",
       "2  2015-01-01 02:00:00+01:00               448.0   \n",
       "3  2015-01-01 03:00:00+01:00               438.0   \n",
       "4  2015-01-01 04:00:00+01:00               428.0   \n",
       "\n",
       "   generation fossil brown coal/lignite  generation fossil coal-derived gas  \\\n",
       "0                                 329.0                                 0.0   \n",
       "1                                 328.0                                 0.0   \n",
       "2                                 323.0                                 0.0   \n",
       "3                                 254.0                                 0.0   \n",
       "4                                 187.0                                 0.0   \n",
       "\n",
       "   generation fossil gas  generation fossil hard coal  generation fossil oil  \\\n",
       "0                 4844.0                       4821.0                  162.0   \n",
       "1                 5196.0                       4755.0                  158.0   \n",
       "2                 4857.0                       4581.0                  157.0   \n",
       "3                 4314.0                       4131.0                  160.0   \n",
       "4                 4130.0                       3840.0                  156.0   \n",
       "\n",
       "   generation fossil oil shale  generation fossil peat  generation geothermal  \\\n",
       "0                          0.0                     0.0                    0.0   \n",
       "1                          0.0                     0.0                    0.0   \n",
       "2                          0.0                     0.0                    0.0   \n",
       "3                          0.0                     0.0                    0.0   \n",
       "4                          0.0                     0.0                    0.0   \n",
       "\n",
       "   ...  generation waste  generation wind offshore  generation wind onshore  \\\n",
       "0  ...             196.0                       0.0                   6378.0   \n",
       "1  ...             195.0                       0.0                   5890.0   \n",
       "2  ...             196.0                       0.0                   5461.0   \n",
       "3  ...             191.0                       0.0                   5238.0   \n",
       "4  ...             189.0                       0.0                   4935.0   \n",
       "\n",
       "   forecast solar day ahead  forecast wind offshore eday ahead  \\\n",
       "0                      17.0                                NaN   \n",
       "1                      16.0                                NaN   \n",
       "2                       8.0                                NaN   \n",
       "3                       2.0                                NaN   \n",
       "4                       9.0                                NaN   \n",
       "\n",
       "   forecast wind onshore day ahead  total load forecast  total load actual  \\\n",
       "0                           6436.0              26118.0            25385.0   \n",
       "1                           5856.0              24934.0            24382.0   \n",
       "2                           5454.0              23515.0            22734.0   \n",
       "3                           5151.0              22642.0            21286.0   \n",
       "4                           4861.0              21785.0            20264.0   \n",
       "\n",
       "   price day ahead  price actual  \n",
       "0            50.10         65.41  \n",
       "1            48.10         64.92  \n",
       "2            47.33         64.48  \n",
       "3            42.27         59.32  \n",
       "4            38.41         56.04  \n",
       "\n",
       "[5 rows x 29 columns]"
      ]
     },
     "execution_count": 85,
     "metadata": {},
     "output_type": "execute_result"
    }
   ],
   "source": [
    "df = pd.read_csv(r\"energy_dataset.csv\")\n",
    "df.head()"
   ]
  },
  {
   "cell_type": "code",
   "execution_count": 4,
   "metadata": {},
   "outputs": [
    {
     "data": {
      "text/html": [
       "<div>\n",
       "<style scoped>\n",
       "    .dataframe tbody tr th:only-of-type {\n",
       "        vertical-align: middle;\n",
       "    }\n",
       "\n",
       "    .dataframe tbody tr th {\n",
       "        vertical-align: top;\n",
       "    }\n",
       "\n",
       "    .dataframe thead th {\n",
       "        text-align: right;\n",
       "    }\n",
       "</style>\n",
       "<table border=\"1\" class=\"dataframe\">\n",
       "  <thead>\n",
       "    <tr style=\"text-align: right;\">\n",
       "      <th></th>\n",
       "      <th>time</th>\n",
       "      <th>generation biomass</th>\n",
       "      <th>generation fossil brown coal/lignite</th>\n",
       "      <th>generation fossil coal-derived gas</th>\n",
       "      <th>generation fossil gas</th>\n",
       "      <th>generation fossil hard coal</th>\n",
       "      <th>generation fossil oil</th>\n",
       "      <th>generation fossil oil shale</th>\n",
       "      <th>generation fossil peat</th>\n",
       "      <th>generation geothermal</th>\n",
       "      <th>...</th>\n",
       "      <th>generation waste</th>\n",
       "      <th>generation wind offshore</th>\n",
       "      <th>generation wind onshore</th>\n",
       "      <th>forecast solar day ahead</th>\n",
       "      <th>forecast wind offshore eday ahead</th>\n",
       "      <th>forecast wind onshore day ahead</th>\n",
       "      <th>total load forecast</th>\n",
       "      <th>total load actual</th>\n",
       "      <th>price day ahead</th>\n",
       "      <th>price actual</th>\n",
       "    </tr>\n",
       "  </thead>\n",
       "  <tbody>\n",
       "    <tr>\n",
       "      <th>35059</th>\n",
       "      <td>2018-12-31 19:00:00+01:00</td>\n",
       "      <td>297.0</td>\n",
       "      <td>0.0</td>\n",
       "      <td>0.0</td>\n",
       "      <td>7634.0</td>\n",
       "      <td>2628.0</td>\n",
       "      <td>178.0</td>\n",
       "      <td>0.0</td>\n",
       "      <td>0.0</td>\n",
       "      <td>0.0</td>\n",
       "      <td>...</td>\n",
       "      <td>277.0</td>\n",
       "      <td>0.0</td>\n",
       "      <td>3113.0</td>\n",
       "      <td>96.0</td>\n",
       "      <td>NaN</td>\n",
       "      <td>3253.0</td>\n",
       "      <td>30619.0</td>\n",
       "      <td>30653.0</td>\n",
       "      <td>68.85</td>\n",
       "      <td>77.02</td>\n",
       "    </tr>\n",
       "    <tr>\n",
       "      <th>35060</th>\n",
       "      <td>2018-12-31 20:00:00+01:00</td>\n",
       "      <td>296.0</td>\n",
       "      <td>0.0</td>\n",
       "      <td>0.0</td>\n",
       "      <td>7241.0</td>\n",
       "      <td>2566.0</td>\n",
       "      <td>174.0</td>\n",
       "      <td>0.0</td>\n",
       "      <td>0.0</td>\n",
       "      <td>0.0</td>\n",
       "      <td>...</td>\n",
       "      <td>280.0</td>\n",
       "      <td>0.0</td>\n",
       "      <td>3288.0</td>\n",
       "      <td>51.0</td>\n",
       "      <td>NaN</td>\n",
       "      <td>3353.0</td>\n",
       "      <td>29932.0</td>\n",
       "      <td>29735.0</td>\n",
       "      <td>68.40</td>\n",
       "      <td>76.16</td>\n",
       "    </tr>\n",
       "    <tr>\n",
       "      <th>35061</th>\n",
       "      <td>2018-12-31 21:00:00+01:00</td>\n",
       "      <td>292.0</td>\n",
       "      <td>0.0</td>\n",
       "      <td>0.0</td>\n",
       "      <td>7025.0</td>\n",
       "      <td>2422.0</td>\n",
       "      <td>168.0</td>\n",
       "      <td>0.0</td>\n",
       "      <td>0.0</td>\n",
       "      <td>0.0</td>\n",
       "      <td>...</td>\n",
       "      <td>286.0</td>\n",
       "      <td>0.0</td>\n",
       "      <td>3503.0</td>\n",
       "      <td>36.0</td>\n",
       "      <td>NaN</td>\n",
       "      <td>3404.0</td>\n",
       "      <td>27903.0</td>\n",
       "      <td>28071.0</td>\n",
       "      <td>66.88</td>\n",
       "      <td>74.30</td>\n",
       "    </tr>\n",
       "    <tr>\n",
       "      <th>35062</th>\n",
       "      <td>2018-12-31 22:00:00+01:00</td>\n",
       "      <td>293.0</td>\n",
       "      <td>0.0</td>\n",
       "      <td>0.0</td>\n",
       "      <td>6562.0</td>\n",
       "      <td>2293.0</td>\n",
       "      <td>163.0</td>\n",
       "      <td>0.0</td>\n",
       "      <td>0.0</td>\n",
       "      <td>0.0</td>\n",
       "      <td>...</td>\n",
       "      <td>287.0</td>\n",
       "      <td>0.0</td>\n",
       "      <td>3586.0</td>\n",
       "      <td>29.0</td>\n",
       "      <td>NaN</td>\n",
       "      <td>3273.0</td>\n",
       "      <td>25450.0</td>\n",
       "      <td>25801.0</td>\n",
       "      <td>63.93</td>\n",
       "      <td>69.89</td>\n",
       "    </tr>\n",
       "    <tr>\n",
       "      <th>35063</th>\n",
       "      <td>2018-12-31 23:00:00+01:00</td>\n",
       "      <td>290.0</td>\n",
       "      <td>0.0</td>\n",
       "      <td>0.0</td>\n",
       "      <td>6926.0</td>\n",
       "      <td>2166.0</td>\n",
       "      <td>163.0</td>\n",
       "      <td>0.0</td>\n",
       "      <td>0.0</td>\n",
       "      <td>0.0</td>\n",
       "      <td>...</td>\n",
       "      <td>287.0</td>\n",
       "      <td>0.0</td>\n",
       "      <td>3651.0</td>\n",
       "      <td>26.0</td>\n",
       "      <td>NaN</td>\n",
       "      <td>3117.0</td>\n",
       "      <td>24424.0</td>\n",
       "      <td>24455.0</td>\n",
       "      <td>64.27</td>\n",
       "      <td>69.88</td>\n",
       "    </tr>\n",
       "  </tbody>\n",
       "</table>\n",
       "<p>5 rows × 29 columns</p>\n",
       "</div>"
      ],
      "text/plain": [
       "                            time  generation biomass  \\\n",
       "35059  2018-12-31 19:00:00+01:00               297.0   \n",
       "35060  2018-12-31 20:00:00+01:00               296.0   \n",
       "35061  2018-12-31 21:00:00+01:00               292.0   \n",
       "35062  2018-12-31 22:00:00+01:00               293.0   \n",
       "35063  2018-12-31 23:00:00+01:00               290.0   \n",
       "\n",
       "       generation fossil brown coal/lignite  \\\n",
       "35059                                   0.0   \n",
       "35060                                   0.0   \n",
       "35061                                   0.0   \n",
       "35062                                   0.0   \n",
       "35063                                   0.0   \n",
       "\n",
       "       generation fossil coal-derived gas  generation fossil gas  \\\n",
       "35059                                 0.0                 7634.0   \n",
       "35060                                 0.0                 7241.0   \n",
       "35061                                 0.0                 7025.0   \n",
       "35062                                 0.0                 6562.0   \n",
       "35063                                 0.0                 6926.0   \n",
       "\n",
       "       generation fossil hard coal  generation fossil oil  \\\n",
       "35059                       2628.0                  178.0   \n",
       "35060                       2566.0                  174.0   \n",
       "35061                       2422.0                  168.0   \n",
       "35062                       2293.0                  163.0   \n",
       "35063                       2166.0                  163.0   \n",
       "\n",
       "       generation fossil oil shale  generation fossil peat  \\\n",
       "35059                          0.0                     0.0   \n",
       "35060                          0.0                     0.0   \n",
       "35061                          0.0                     0.0   \n",
       "35062                          0.0                     0.0   \n",
       "35063                          0.0                     0.0   \n",
       "\n",
       "       generation geothermal  ...  generation waste  generation wind offshore  \\\n",
       "35059                    0.0  ...             277.0                       0.0   \n",
       "35060                    0.0  ...             280.0                       0.0   \n",
       "35061                    0.0  ...             286.0                       0.0   \n",
       "35062                    0.0  ...             287.0                       0.0   \n",
       "35063                    0.0  ...             287.0                       0.0   \n",
       "\n",
       "       generation wind onshore  forecast solar day ahead  \\\n",
       "35059                   3113.0                      96.0   \n",
       "35060                   3288.0                      51.0   \n",
       "35061                   3503.0                      36.0   \n",
       "35062                   3586.0                      29.0   \n",
       "35063                   3651.0                      26.0   \n",
       "\n",
       "       forecast wind offshore eday ahead  forecast wind onshore day ahead  \\\n",
       "35059                                NaN                           3253.0   \n",
       "35060                                NaN                           3353.0   \n",
       "35061                                NaN                           3404.0   \n",
       "35062                                NaN                           3273.0   \n",
       "35063                                NaN                           3117.0   \n",
       "\n",
       "       total load forecast  total load actual  price day ahead  price actual  \n",
       "35059              30619.0            30653.0            68.85         77.02  \n",
       "35060              29932.0            29735.0            68.40         76.16  \n",
       "35061              27903.0            28071.0            66.88         74.30  \n",
       "35062              25450.0            25801.0            63.93         69.89  \n",
       "35063              24424.0            24455.0            64.27         69.88  \n",
       "\n",
       "[5 rows x 29 columns]"
      ]
     },
     "execution_count": 4,
     "metadata": {},
     "output_type": "execute_result"
    }
   ],
   "source": [
    "df.tail()"
   ]
  },
  {
   "cell_type": "code",
   "execution_count": 5,
   "metadata": {},
   "outputs": [
    {
     "data": {
      "text/plain": [
       "70529"
      ]
     },
     "execution_count": 5,
     "metadata": {},
     "output_type": "execute_result"
    }
   ],
   "source": [
    "df.isna().sum().sum()"
   ]
  },
  {
   "cell_type": "code",
   "execution_count": 6,
   "metadata": {},
   "outputs": [
    {
     "data": {
      "text/plain": [
       "time                                               0\n",
       "generation biomass                                19\n",
       "generation fossil brown coal/lignite              18\n",
       "generation fossil coal-derived gas                18\n",
       "generation fossil gas                             18\n",
       "generation fossil hard coal                       18\n",
       "generation fossil oil                             19\n",
       "generation fossil oil shale                       18\n",
       "generation fossil peat                            18\n",
       "generation geothermal                             18\n",
       "generation hydro pumped storage aggregated     35064\n",
       "generation hydro pumped storage consumption       19\n",
       "generation hydro run-of-river and poundage        19\n",
       "generation hydro water reservoir                  18\n",
       "generation marine                                 19\n",
       "generation nuclear                                17\n",
       "generation other                                  18\n",
       "generation other renewable                        18\n",
       "generation solar                                  18\n",
       "generation waste                                  19\n",
       "generation wind offshore                          18\n",
       "generation wind onshore                           18\n",
       "forecast solar day ahead                           0\n",
       "forecast wind offshore eday ahead              35064\n",
       "forecast wind onshore day ahead                    0\n",
       "total load forecast                                0\n",
       "total load actual                                 36\n",
       "price day ahead                                    0\n",
       "price actual                                       0\n",
       "dtype: int64"
      ]
     },
     "execution_count": 6,
     "metadata": {},
     "output_type": "execute_result"
    }
   ],
   "source": [
    "df.isna().sum()"
   ]
  },
  {
   "cell_type": "code",
   "execution_count": 7,
   "metadata": {},
   "outputs": [
    {
     "data": {
      "text/plain": [
       "(35064, 29)"
      ]
     },
     "execution_count": 7,
     "metadata": {},
     "output_type": "execute_result"
    }
   ],
   "source": [
    "df.shape"
   ]
  },
  {
   "cell_type": "code",
   "execution_count": 86,
   "metadata": {},
   "outputs": [],
   "source": [
    "df.drop([\"forecast wind offshore eday ahead\", \"generation hydro pumped storage aggregated\"], axis=1, inplace=True)"
   ]
  },
  {
   "cell_type": "code",
   "execution_count": 87,
   "metadata": {},
   "outputs": [],
   "source": [
    "df = df.ffill().bfill()"
   ]
  },
  {
   "cell_type": "code",
   "execution_count": 10,
   "metadata": {},
   "outputs": [
    {
     "data": {
      "text/plain": [
       "0"
      ]
     },
     "execution_count": 10,
     "metadata": {},
     "output_type": "execute_result"
    }
   ],
   "source": [
    "df.isna().sum().sum()"
   ]
  },
  {
   "cell_type": "code",
   "execution_count": 11,
   "metadata": {},
   "outputs": [
    {
     "name": "stdout",
     "output_type": "stream",
     "text": [
      "<class 'pandas.core.frame.DataFrame'>\n",
      "RangeIndex: 35064 entries, 0 to 35063\n",
      "Data columns (total 27 columns):\n",
      " #   Column                                       Non-Null Count  Dtype  \n",
      "---  ------                                       --------------  -----  \n",
      " 0   time                                         35064 non-null  object \n",
      " 1   generation biomass                           35064 non-null  float64\n",
      " 2   generation fossil brown coal/lignite         35064 non-null  float64\n",
      " 3   generation fossil coal-derived gas           35064 non-null  float64\n",
      " 4   generation fossil gas                        35064 non-null  float64\n",
      " 5   generation fossil hard coal                  35064 non-null  float64\n",
      " 6   generation fossil oil                        35064 non-null  float64\n",
      " 7   generation fossil oil shale                  35064 non-null  float64\n",
      " 8   generation fossil peat                       35064 non-null  float64\n",
      " 9   generation geothermal                        35064 non-null  float64\n",
      " 10  generation hydro pumped storage consumption  35064 non-null  float64\n",
      " 11  generation hydro run-of-river and poundage   35064 non-null  float64\n",
      " 12  generation hydro water reservoir             35064 non-null  float64\n",
      " 13  generation marine                            35064 non-null  float64\n",
      " 14  generation nuclear                           35064 non-null  float64\n",
      " 15  generation other                             35064 non-null  float64\n",
      " 16  generation other renewable                   35064 non-null  float64\n",
      " 17  generation solar                             35064 non-null  float64\n",
      " 18  generation waste                             35064 non-null  float64\n",
      " 19  generation wind offshore                     35064 non-null  float64\n",
      " 20  generation wind onshore                      35064 non-null  float64\n",
      " 21  forecast solar day ahead                     35064 non-null  float64\n",
      " 22  forecast wind onshore day ahead              35064 non-null  float64\n",
      " 23  total load forecast                          35064 non-null  float64\n",
      " 24  total load actual                            35064 non-null  float64\n",
      " 25  price day ahead                              35064 non-null  float64\n",
      " 26  price actual                                 35064 non-null  float64\n",
      "dtypes: float64(26), object(1)\n",
      "memory usage: 7.2+ MB\n"
     ]
    }
   ],
   "source": [
    "df.info()"
   ]
  },
  {
   "cell_type": "code",
   "execution_count": 88,
   "metadata": {},
   "outputs": [],
   "source": [
    "df.drop('time', axis=1, inplace = True)"
   ]
  },
  {
   "cell_type": "code",
   "execution_count": 13,
   "metadata": {},
   "outputs": [
    {
     "data": {
      "text/plain": [
       "(35064, 26)"
      ]
     },
     "execution_count": 13,
     "metadata": {},
     "output_type": "execute_result"
    }
   ],
   "source": [
    "df.shape"
   ]
  },
  {
   "cell_type": "code",
   "execution_count": 14,
   "metadata": {},
   "outputs": [
    {
     "data": {
      "text/html": [
       "<div>\n",
       "<style scoped>\n",
       "    .dataframe tbody tr th:only-of-type {\n",
       "        vertical-align: middle;\n",
       "    }\n",
       "\n",
       "    .dataframe tbody tr th {\n",
       "        vertical-align: top;\n",
       "    }\n",
       "\n",
       "    .dataframe thead th {\n",
       "        text-align: right;\n",
       "    }\n",
       "</style>\n",
       "<table border=\"1\" class=\"dataframe\">\n",
       "  <thead>\n",
       "    <tr style=\"text-align: right;\">\n",
       "      <th></th>\n",
       "      <th>generation biomass</th>\n",
       "      <th>generation fossil brown coal/lignite</th>\n",
       "      <th>generation fossil coal-derived gas</th>\n",
       "      <th>generation fossil gas</th>\n",
       "      <th>generation fossil hard coal</th>\n",
       "      <th>generation fossil oil</th>\n",
       "      <th>generation fossil oil shale</th>\n",
       "      <th>generation fossil peat</th>\n",
       "      <th>generation geothermal</th>\n",
       "      <th>generation hydro pumped storage consumption</th>\n",
       "      <th>...</th>\n",
       "      <th>generation solar</th>\n",
       "      <th>generation waste</th>\n",
       "      <th>generation wind offshore</th>\n",
       "      <th>generation wind onshore</th>\n",
       "      <th>forecast solar day ahead</th>\n",
       "      <th>forecast wind onshore day ahead</th>\n",
       "      <th>total load forecast</th>\n",
       "      <th>total load actual</th>\n",
       "      <th>price day ahead</th>\n",
       "      <th>price actual</th>\n",
       "    </tr>\n",
       "  </thead>\n",
       "  <tbody>\n",
       "    <tr>\n",
       "      <th>0</th>\n",
       "      <td>447.0</td>\n",
       "      <td>329.0</td>\n",
       "      <td>0.0</td>\n",
       "      <td>4844.0</td>\n",
       "      <td>4821.0</td>\n",
       "      <td>162.0</td>\n",
       "      <td>0.0</td>\n",
       "      <td>0.0</td>\n",
       "      <td>0.0</td>\n",
       "      <td>863.0</td>\n",
       "      <td>...</td>\n",
       "      <td>49.0</td>\n",
       "      <td>196.0</td>\n",
       "      <td>0.0</td>\n",
       "      <td>6378.0</td>\n",
       "      <td>17.0</td>\n",
       "      <td>6436.0</td>\n",
       "      <td>26118.0</td>\n",
       "      <td>25385.0</td>\n",
       "      <td>50.10</td>\n",
       "      <td>65.41</td>\n",
       "    </tr>\n",
       "    <tr>\n",
       "      <th>1</th>\n",
       "      <td>449.0</td>\n",
       "      <td>328.0</td>\n",
       "      <td>0.0</td>\n",
       "      <td>5196.0</td>\n",
       "      <td>4755.0</td>\n",
       "      <td>158.0</td>\n",
       "      <td>0.0</td>\n",
       "      <td>0.0</td>\n",
       "      <td>0.0</td>\n",
       "      <td>920.0</td>\n",
       "      <td>...</td>\n",
       "      <td>50.0</td>\n",
       "      <td>195.0</td>\n",
       "      <td>0.0</td>\n",
       "      <td>5890.0</td>\n",
       "      <td>16.0</td>\n",
       "      <td>5856.0</td>\n",
       "      <td>24934.0</td>\n",
       "      <td>24382.0</td>\n",
       "      <td>48.10</td>\n",
       "      <td>64.92</td>\n",
       "    </tr>\n",
       "    <tr>\n",
       "      <th>2</th>\n",
       "      <td>448.0</td>\n",
       "      <td>323.0</td>\n",
       "      <td>0.0</td>\n",
       "      <td>4857.0</td>\n",
       "      <td>4581.0</td>\n",
       "      <td>157.0</td>\n",
       "      <td>0.0</td>\n",
       "      <td>0.0</td>\n",
       "      <td>0.0</td>\n",
       "      <td>1164.0</td>\n",
       "      <td>...</td>\n",
       "      <td>50.0</td>\n",
       "      <td>196.0</td>\n",
       "      <td>0.0</td>\n",
       "      <td>5461.0</td>\n",
       "      <td>8.0</td>\n",
       "      <td>5454.0</td>\n",
       "      <td>23515.0</td>\n",
       "      <td>22734.0</td>\n",
       "      <td>47.33</td>\n",
       "      <td>64.48</td>\n",
       "    </tr>\n",
       "    <tr>\n",
       "      <th>3</th>\n",
       "      <td>438.0</td>\n",
       "      <td>254.0</td>\n",
       "      <td>0.0</td>\n",
       "      <td>4314.0</td>\n",
       "      <td>4131.0</td>\n",
       "      <td>160.0</td>\n",
       "      <td>0.0</td>\n",
       "      <td>0.0</td>\n",
       "      <td>0.0</td>\n",
       "      <td>1503.0</td>\n",
       "      <td>...</td>\n",
       "      <td>50.0</td>\n",
       "      <td>191.0</td>\n",
       "      <td>0.0</td>\n",
       "      <td>5238.0</td>\n",
       "      <td>2.0</td>\n",
       "      <td>5151.0</td>\n",
       "      <td>22642.0</td>\n",
       "      <td>21286.0</td>\n",
       "      <td>42.27</td>\n",
       "      <td>59.32</td>\n",
       "    </tr>\n",
       "    <tr>\n",
       "      <th>4</th>\n",
       "      <td>428.0</td>\n",
       "      <td>187.0</td>\n",
       "      <td>0.0</td>\n",
       "      <td>4130.0</td>\n",
       "      <td>3840.0</td>\n",
       "      <td>156.0</td>\n",
       "      <td>0.0</td>\n",
       "      <td>0.0</td>\n",
       "      <td>0.0</td>\n",
       "      <td>1826.0</td>\n",
       "      <td>...</td>\n",
       "      <td>42.0</td>\n",
       "      <td>189.0</td>\n",
       "      <td>0.0</td>\n",
       "      <td>4935.0</td>\n",
       "      <td>9.0</td>\n",
       "      <td>4861.0</td>\n",
       "      <td>21785.0</td>\n",
       "      <td>20264.0</td>\n",
       "      <td>38.41</td>\n",
       "      <td>56.04</td>\n",
       "    </tr>\n",
       "  </tbody>\n",
       "</table>\n",
       "<p>5 rows × 26 columns</p>\n",
       "</div>"
      ],
      "text/plain": [
       "   generation biomass  generation fossil brown coal/lignite  \\\n",
       "0               447.0                                 329.0   \n",
       "1               449.0                                 328.0   \n",
       "2               448.0                                 323.0   \n",
       "3               438.0                                 254.0   \n",
       "4               428.0                                 187.0   \n",
       "\n",
       "   generation fossil coal-derived gas  generation fossil gas  \\\n",
       "0                                 0.0                 4844.0   \n",
       "1                                 0.0                 5196.0   \n",
       "2                                 0.0                 4857.0   \n",
       "3                                 0.0                 4314.0   \n",
       "4                                 0.0                 4130.0   \n",
       "\n",
       "   generation fossil hard coal  generation fossil oil  \\\n",
       "0                       4821.0                  162.0   \n",
       "1                       4755.0                  158.0   \n",
       "2                       4581.0                  157.0   \n",
       "3                       4131.0                  160.0   \n",
       "4                       3840.0                  156.0   \n",
       "\n",
       "   generation fossil oil shale  generation fossil peat  generation geothermal  \\\n",
       "0                          0.0                     0.0                    0.0   \n",
       "1                          0.0                     0.0                    0.0   \n",
       "2                          0.0                     0.0                    0.0   \n",
       "3                          0.0                     0.0                    0.0   \n",
       "4                          0.0                     0.0                    0.0   \n",
       "\n",
       "   generation hydro pumped storage consumption  ...  generation solar  \\\n",
       "0                                        863.0  ...              49.0   \n",
       "1                                        920.0  ...              50.0   \n",
       "2                                       1164.0  ...              50.0   \n",
       "3                                       1503.0  ...              50.0   \n",
       "4                                       1826.0  ...              42.0   \n",
       "\n",
       "   generation waste  generation wind offshore  generation wind onshore  \\\n",
       "0             196.0                       0.0                   6378.0   \n",
       "1             195.0                       0.0                   5890.0   \n",
       "2             196.0                       0.0                   5461.0   \n",
       "3             191.0                       0.0                   5238.0   \n",
       "4             189.0                       0.0                   4935.0   \n",
       "\n",
       "   forecast solar day ahead  forecast wind onshore day ahead  \\\n",
       "0                      17.0                           6436.0   \n",
       "1                      16.0                           5856.0   \n",
       "2                       8.0                           5454.0   \n",
       "3                       2.0                           5151.0   \n",
       "4                       9.0                           4861.0   \n",
       "\n",
       "   total load forecast  total load actual  price day ahead  price actual  \n",
       "0              26118.0            25385.0            50.10         65.41  \n",
       "1              24934.0            24382.0            48.10         64.92  \n",
       "2              23515.0            22734.0            47.33         64.48  \n",
       "3              22642.0            21286.0            42.27         59.32  \n",
       "4              21785.0            20264.0            38.41         56.04  \n",
       "\n",
       "[5 rows x 26 columns]"
      ]
     },
     "execution_count": 14,
     "metadata": {},
     "output_type": "execute_result"
    }
   ],
   "source": [
    "df.head()"
   ]
  },
  {
   "cell_type": "code",
   "execution_count": 105,
   "metadata": {},
   "outputs": [],
   "source": [
    "x = df.drop(\"total load forecast\",axis=1)\n",
    "y = df[\"total load forecast\"]"
   ]
  },
  {
   "cell_type": "code",
   "execution_count": 16,
   "metadata": {},
   "outputs": [],
   "source": [
    "# from sklearn.model_selection import train_test_split\n",
    "# x_train, x_test, y_train, y_test = train_test_split(x, y, test_size=0.3, random_state=1)"
   ]
  },
  {
   "cell_type": "markdown",
   "metadata": {},
   "source": [
    "**K-BEST**"
   ]
  },
  {
   "cell_type": "code",
   "execution_count": 41,
   "metadata": {},
   "outputs": [
    {
     "data": {
      "text/plain": [
       "array([4.15418606e-02, 1.01594974e-01, 0.00000000e+00, 2.21128053e-01,\n",
       "       1.17828086e-01, 1.88299031e-01, 2.43539208e-05, 5.28230061e-04,\n",
       "       7.43010857e-06, 3.08548298e-01, 8.08908532e-02, 1.77479289e-01,\n",
       "       5.01068720e-04, 8.98000699e-02, 9.57701952e-02, 3.22169038e-02,\n",
       "       1.37719536e-01, 2.51751526e-02, 5.01085671e-04, 1.19486619e-02,\n",
       "       1.48028656e-01, 1.45738614e-02, 2.39426273e+00, 1.71503383e-01,\n",
       "       1.31404701e-01])"
      ]
     },
     "execution_count": 41,
     "metadata": {},
     "output_type": "execute_result"
    }
   ],
   "source": [
    "from sklearn.feature_selection import mutual_info_regression\n",
    "# determine the mutual information\n",
    "mutual_info = mutual_info_regression(x, y)\n",
    "mutual_info"
   ]
  },
  {
   "cell_type": "code",
   "execution_count": 42,
   "metadata": {},
   "outputs": [
    {
     "data": {
      "text/plain": [
       "total load actual                              2.394263\n",
       "generation hydro pumped storage consumption    0.308548\n",
       "generation fossil gas                          0.221128\n",
       "generation fossil oil                          0.188299\n",
       "generation hydro water reservoir               0.177479\n",
       "price day ahead                                0.171503\n",
       "forecast solar day ahead                       0.148029\n",
       "generation solar                               0.137720\n",
       "price actual                                   0.131405\n",
       "generation fossil hard coal                    0.117828\n",
       "generation fossil brown coal/lignite           0.101595\n",
       "generation other                               0.095770\n",
       "generation nuclear                             0.089800\n",
       "generation hydro run-of-river and poundage     0.080891\n",
       "generation biomass                             0.041542\n",
       "generation other renewable                     0.032217\n",
       "generation waste                               0.025175\n",
       "forecast wind onshore day ahead                0.014574\n",
       "generation wind onshore                        0.011949\n",
       "generation fossil peat                         0.000528\n",
       "generation wind offshore                       0.000501\n",
       "generation marine                              0.000501\n",
       "generation fossil oil shale                    0.000024\n",
       "generation geothermal                          0.000007\n",
       "generation fossil coal-derived gas             0.000000\n",
       "dtype: float64"
      ]
     },
     "execution_count": 42,
     "metadata": {},
     "output_type": "execute_result"
    }
   ],
   "source": [
    "mutual_info = pd.Series(mutual_info)\n",
    "mutual_info.index = x.columns\n",
    "mutual_info.sort_values(ascending=False)"
   ]
  },
  {
   "cell_type": "code",
   "execution_count": 43,
   "metadata": {},
   "outputs": [
    {
     "data": {
      "text/plain": [
       "<Axes: >"
      ]
     },
     "execution_count": 43,
     "metadata": {},
     "output_type": "execute_result"
    },
    {
     "data": {
      "image/png": "[encoded data removed]",
      "text/plain": [
       "<Figure size 2000x800 with 1 Axes>"
      ]
     },
     "metadata": {},
     "output_type": "display_data"
    }
   ],
   "source": [
    "#let's plot the ordered mutual_info values per feature\n",
    "mutual_info.sort_values(ascending=False).plot.bar(figsize=(20, 8))"
   ]
  },
  {
   "cell_type": "code",
   "execution_count": 44,
   "metadata": {},
   "outputs": [
    {
     "data": {
      "text/plain": [
       "Index(['generation fossil gas', 'generation fossil oil',\n",
       "       'generation hydro pumped storage consumption',\n",
       "       'generation hydro water reservoir', 'generation solar',\n",
       "       'forecast solar day ahead', 'total load actual', 'price day ahead'],\n",
       "      dtype='object')"
      ]
     },
     "execution_count": 44,
     "metadata": {},
     "output_type": "execute_result"
    }
   ],
   "source": [
    "from sklearn.feature_selection import SelectKBest\n",
    "\n",
    "select_8_columns = SelectKBest(mutual_info_regression, k=8)\n",
    "select_8_columns.fit(x, y)\n",
    "x.columns[select_8_columns.get_support()]"
   ]
  },
  {
   "cell_type": "code",
   "execution_count": 106,
   "metadata": {},
   "outputs": [],
   "source": [
    "x = x[['generation fossil gas', 'generation fossil oil',\n",
    "       'generation hydro pumped storage consumption',\n",
    "       'generation hydro water reservoir', 'generation solar',\n",
    "       'forecast solar day ahead','total load actual', 'price day ahead']]"
   ]
  },
  {
   "cell_type": "code",
   "execution_count": 91,
   "metadata": {},
   "outputs": [
    {
     "data": {
      "text/html": [
       "<div>\n",
       "<style scoped>\n",
       "    .dataframe tbody tr th:only-of-type {\n",
       "        vertical-align: middle;\n",
       "    }\n",
       "\n",
       "    .dataframe tbody tr th {\n",
       "        vertical-align: top;\n",
       "    }\n",
       "\n",
       "    .dataframe thead th {\n",
       "        text-align: right;\n",
       "    }\n",
       "</style>\n",
       "<table border=\"1\" class=\"dataframe\">\n",
       "  <thead>\n",
       "    <tr style=\"text-align: right;\">\n",
       "      <th></th>\n",
       "      <th>generation fossil gas</th>\n",
       "      <th>generation fossil oil</th>\n",
       "      <th>generation hydro pumped storage consumption</th>\n",
       "      <th>generation hydro water reservoir</th>\n",
       "      <th>generation solar</th>\n",
       "      <th>forecast solar day ahead</th>\n",
       "    </tr>\n",
       "  </thead>\n",
       "  <tbody>\n",
       "    <tr>\n",
       "      <th>0</th>\n",
       "      <td>4844.0</td>\n",
       "      <td>162.0</td>\n",
       "      <td>863.0</td>\n",
       "      <td>1899.0</td>\n",
       "      <td>49.0</td>\n",
       "      <td>17.0</td>\n",
       "    </tr>\n",
       "    <tr>\n",
       "      <th>1</th>\n",
       "      <td>5196.0</td>\n",
       "      <td>158.0</td>\n",
       "      <td>920.0</td>\n",
       "      <td>1658.0</td>\n",
       "      <td>50.0</td>\n",
       "      <td>16.0</td>\n",
       "    </tr>\n",
       "    <tr>\n",
       "      <th>2</th>\n",
       "      <td>4857.0</td>\n",
       "      <td>157.0</td>\n",
       "      <td>1164.0</td>\n",
       "      <td>1371.0</td>\n",
       "      <td>50.0</td>\n",
       "      <td>8.0</td>\n",
       "    </tr>\n",
       "    <tr>\n",
       "      <th>3</th>\n",
       "      <td>4314.0</td>\n",
       "      <td>160.0</td>\n",
       "      <td>1503.0</td>\n",
       "      <td>779.0</td>\n",
       "      <td>50.0</td>\n",
       "      <td>2.0</td>\n",
       "    </tr>\n",
       "    <tr>\n",
       "      <th>4</th>\n",
       "      <td>4130.0</td>\n",
       "      <td>156.0</td>\n",
       "      <td>1826.0</td>\n",
       "      <td>720.0</td>\n",
       "      <td>42.0</td>\n",
       "      <td>9.0</td>\n",
       "    </tr>\n",
       "  </tbody>\n",
       "</table>\n",
       "</div>"
      ],
      "text/plain": [
       "   generation fossil gas  generation fossil oil  \\\n",
       "0                 4844.0                  162.0   \n",
       "1                 5196.0                  158.0   \n",
       "2                 4857.0                  157.0   \n",
       "3                 4314.0                  160.0   \n",
       "4                 4130.0                  156.0   \n",
       "\n",
       "   generation hydro pumped storage consumption  \\\n",
       "0                                        863.0   \n",
       "1                                        920.0   \n",
       "2                                       1164.0   \n",
       "3                                       1503.0   \n",
       "4                                       1826.0   \n",
       "\n",
       "   generation hydro water reservoir  generation solar  \\\n",
       "0                            1899.0              49.0   \n",
       "1                            1658.0              50.0   \n",
       "2                            1371.0              50.0   \n",
       "3                             779.0              50.0   \n",
       "4                             720.0              42.0   \n",
       "\n",
       "   forecast solar day ahead  \n",
       "0                      17.0  \n",
       "1                      16.0  \n",
       "2                       8.0  \n",
       "3                       2.0  \n",
       "4                       9.0  "
      ]
     },
     "execution_count": 91,
     "metadata": {},
     "output_type": "execute_result"
    }
   ],
   "source": [
    "x.head()"
   ]
  },
  {
   "cell_type": "code",
   "execution_count": 92,
   "metadata": {},
   "outputs": [
    {
     "data": {
      "text/plain": [
       "0    26118.0\n",
       "1    24934.0\n",
       "2    23515.0\n",
       "3    22642.0\n",
       "4    21785.0\n",
       "Name: total load forecast, dtype: float64"
      ]
     },
     "execution_count": 92,
     "metadata": {},
     "output_type": "execute_result"
    }
   ],
   "source": [
    "y.head()"
   ]
  },
  {
   "cell_type": "markdown",
   "metadata": {},
   "source": [
    "### **Random Forest**"
   ]
  },
  {
   "cell_type": "code",
   "execution_count": 95,
   "metadata": {},
   "outputs": [],
   "source": [
    "from sklearn.model_selection import train_test_split\n",
    "from sklearn.metrics import r2_score, mean_squared_error\n",
    "# Splitting the dataset\n",
    "x_train, x_test, y_train, y_test = train_test_split(x, y, test_size=0.3, random_state=1)"
   ]
  },
  {
   "cell_type": "code",
   "execution_count": 98,
   "metadata": {},
   "outputs": [
    {
     "data": {
      "text/html": [
       "<style>#sk-container-id-2 {color: black;}#sk-container-id-2 pre{padding: 0;}#sk-container-id-2 div.sk-toggleable {background-color: white;}#sk-container-id-2 label.sk-toggleable__label {cursor: pointer;display: block;width: 100%;margin-bottom: 0;padding: 0.3em;box-sizing: border-box;text-align: center;}#sk-container-id-2 label.sk-toggleable__label-arrow:before {content: \"▸\";float: left;margin-right: 0.25em;color: #696969;}#sk-container-id-2 label.sk-toggleable__label-arrow:hover:before {color: black;}#sk-container-id-2 div.sk-estimator:hover label.sk-toggleable__label-arrow:before {color: black;}#sk-container-id-2 div.sk-toggleable__content {max-height: 0;max-width: 0;overflow: hidden;text-align: left;background-color: #f0f8ff;}#sk-container-id-2 div.sk-toggleable__content pre {margin: 0.2em;color: black;border-radius: 0.25em;background-color: #f0f8ff;}#sk-container-id-2 input.sk-toggleable__control:checked~div.sk-toggleable__content {max-height: 200px;max-width: 100%;overflow: auto;}#sk-container-id-2 input.sk-toggleable__control:checked~label.sk-toggleable__label-arrow:before {content: \"▾\";}#sk-container-id-2 div.sk-estimator input.sk-toggleable__control:checked~label.sk-toggleable__label {background-color: #d4ebff;}#sk-container-id-2 div.sk-label input.sk-toggleable__control:checked~label.sk-toggleable__label {background-color: #d4ebff;}#sk-container-id-2 input.sk-hidden--visually {border: 0;clip: rect(1px 1px 1px 1px);clip: rect(1px, 1px, 1px, 1px);height: 1px;margin: -1px;overflow: hidden;padding: 0;position: absolute;width: 1px;}#sk-container-id-2 div.sk-estimator {font-family: monospace;background-color: #f0f8ff;border: 1px dotted black;border-radius: 0.25em;box-sizing: border-box;margin-bottom: 0.5em;}#sk-container-id-2 div.sk-estimator:hover {background-color: #d4ebff;}#sk-container-id-2 div.sk-parallel-item::after {content: \"\";width: 100%;border-bottom: 1px solid gray;flex-grow: 1;}#sk-container-id-2 div.sk-label:hover label.sk-toggleable__label {background-color: #d4ebff;}#sk-container-id-2 div.sk-serial::before {content: \"\";position: absolute;border-left: 1px solid gray;box-sizing: border-box;top: 0;bottom: 0;left: 50%;z-index: 0;}#sk-container-id-2 div.sk-serial {display: flex;flex-direction: column;align-items: center;background-color: white;padding-right: 0.2em;padding-left: 0.2em;position: relative;}#sk-container-id-2 div.sk-item {position: relative;z-index: 1;}#sk-container-id-2 div.sk-parallel {display: flex;align-items: stretch;justify-content: center;background-color: white;position: relative;}#sk-container-id-2 div.sk-item::before, #sk-container-id-2 div.sk-parallel-item::before {content: \"\";position: absolute;border-left: 1px solid gray;box-sizing: border-box;top: 0;bottom: 0;left: 50%;z-index: -1;}#sk-container-id-2 div.sk-parallel-item {display: flex;flex-direction: column;z-index: 1;position: relative;background-color: white;}#sk-container-id-2 div.sk-parallel-item:first-child::after {align-self: flex-end;width: 50%;}#sk-container-id-2 div.sk-parallel-item:last-child::after {align-self: flex-start;width: 50%;}#sk-container-id-2 div.sk-parallel-item:only-child::after {width: 0;}#sk-container-id-2 div.sk-dashed-wrapped {border: 1px dashed gray;margin: 0 0.4em 0.5em 0.4em;box-sizing: border-box;padding-bottom: 0.4em;background-color: white;}#sk-container-id-2 div.sk-label label {font-family: monospace;font-weight: bold;display: inline-block;line-height: 1.2em;}#sk-container-id-2 div.sk-label-container {text-align: center;}#sk-container-id-2 div.sk-container {/* jupyter's `normalize.less` sets `[hidden] { display: none; }` but bootstrap.min.css set `[hidden] { display: none !important; }` so we also need the `!important` here to be able to override the default hidden behavior on the sphinx rendered scikit-learn.org. See: https://github.com/scikit-learn/scikit-learn/issues/21755 */display: inline-block !important;position: relative;}#sk-container-id-2 div.sk-text-repr-fallback {display: none;}</style><div id=\"sk-container-id-2\" class=\"sk-top-container\"><div class=\"sk-text-repr-fallback\"><pre>RandomForestRegressor(ccp_alpha=0.0012)</pre><b>In a Jupyter environment, please rerun this cell to show the HTML representation or trust the notebook. <br />On GitHub, the HTML representation is unable to render, please try loading this page with nbviewer.org.</b></div><div class=\"sk-container\" hidden><div class=\"sk-item\"><div class=\"sk-estimator sk-toggleable\"><input class=\"sk-toggleable__control sk-hidden--visually\" id=\"sk-estimator-id-2\" type=\"checkbox\" checked><label for=\"sk-estimator-id-2\" class=\"sk-toggleable__label sk-toggleable__label-arrow\">RandomForestRegressor</label><div class=\"sk-toggleable__content\"><pre>RandomForestRegressor(ccp_alpha=0.0012)</pre></div></div></div></div></div>"
      ],
      "text/plain": [
       "RandomForestRegressor(ccp_alpha=0.0012)"
      ]
     },
     "execution_count": 98,
     "metadata": {},
     "output_type": "execute_result"
    }
   ],
   "source": [
    "from sklearn.ensemble import RandomForestRegressor\n",
    "rf = RandomForestRegressor(ccp_alpha=0.0012)\n",
    "rf.fit(x_train, y_train)"
   ]
  },
  {
   "cell_type": "code",
   "execution_count": 99,
   "metadata": {},
   "outputs": [
    {
     "name": "stdout",
     "output_type": "stream",
     "text": [
      "Accuracy = 0.9726506042340957\n",
      "MSE = 575243.9790213712\n"
     ]
    }
   ],
   "source": [
    "y_pred = rf.predict(x_train)\n",
    "r2_rf = r2_score(y_train, y_pred)\n",
    "mse_rf = mean_squared_error(y_train, y_pred)\n",
    "\n",
    "print(f\"Accuracy = {r2_rf}\")\n",
    "print(f\"MSE = {mse_rf}\")"
   ]
  },
  {
   "cell_type": "code",
   "execution_count": 100,
   "metadata": {},
   "outputs": [
    {
     "name": "stdout",
     "output_type": "stream",
     "text": [
      "Accuracy = 0.8109207533244209\n",
      "MSE = 4021879.8643916924\n"
     ]
    }
   ],
   "source": [
    "y_pred = rf.predict(x_test)\n",
    "r2_rf = r2_score(y_test, y_pred)\n",
    "mse_rf = mean_squared_error(y_test, y_pred)\n",
    "\n",
    "print(f\"Accuracy = {r2_rf}\")\n",
    "print(f\"MSE = {mse_rf}\")"
   ]
  },
  {
   "cell_type": "markdown",
   "metadata": {},
   "source": [
    "### **AdaBoost**"
   ]
  },
  {
   "cell_type": "code",
   "execution_count": 104,
   "metadata": {},
   "outputs": [
    {
     "name": "stdout",
     "output_type": "stream",
     "text": [
      "Accuracy = 1.0\n",
      "MSE = 0.0\n"
     ]
    }
   ],
   "source": [
    "from sklearn.tree import DecisionTreeClassifier\n",
    "adb = DecisionTreeClassifier()\n",
    "adb.fit(x_train, y_train)\n",
    "\n",
    "y_pred = adb.predict(x_train)\n",
    "r2_adb = r2_score(y_train, y_pred)\n",
    "mse_adb = mean_squared_error(y_train, y_pred)\n",
    "\n",
    "print(f\"Accuracy = {r2_adb}\")\n",
    "print(f\"MSE = {mse_adb}\")"
   ]
  },
  {
   "cell_type": "code",
   "execution_count": 102,
   "metadata": {},
   "outputs": [
    {
     "name": "stdout",
     "output_type": "stream",
     "text": [
      "Accuracy = 0.6922730427435222\n",
      "MSE = 6545619.759337668\n"
     ]
    }
   ],
   "source": [
    "y_pred = adb.predict(x_test)\n",
    "r2_adb = r2_score(y_test, y_pred)\n",
    "mse_adb = mean_squared_error(y_test, y_pred)\n",
    "\n",
    "print(f\"Accuracy = {r2_adb}\")\n",
    "print(f\"MSE = {mse_adb}\")"
   ]
  },
  {
   "cell_type": "code",
   "execution_count": null,
   "metadata": {},
   "outputs": [],
   "source": []
  },
  {
   "cell_type": "markdown",
   "metadata": {},
   "source": [
    "### **LSTM**"
   ]
  },
  {
   "cell_type": "code",
   "execution_count": 45,
   "metadata": {},
   "outputs": [],
   "source": [
    "import numpy as np\n",
    "import pandas as pd\n",
    "from sklearn.preprocessing import StandardScaler\n",
    "from sklearn.model_selection import train_test_split\n",
    "import tensorflow as tf\n",
    "from tensorflow.keras.models import Sequential\n",
    "from tensorflow.keras.layers import Dense, SimpleRNN, Dropout, LSTM\n",
    "from tensorflow.keras.callbacks import EarlyStopping, ReduceLROnPlateau\n",
    "from sklearn.metrics import mean_squared_error, r2_score"
   ]
  },
  {
   "cell_type": "code",
   "execution_count": 46,
   "metadata": {},
   "outputs": [],
   "source": [
    "# Standardize the features\n",
    "scaler = StandardScaler()\n",
    "x_scaled = scaler.fit_transform(x)\n",
    "\n",
    "# Reshaping x for RNN input: RNN expects input in the shape [samples, time steps, features]\n",
    "x_scaled = x_scaled.reshape((x_scaled.shape[0], 1, x_scaled.shape[1]))\n",
    "\n",
    "# Splitting the dataset\n",
    "x_train, x_test, y_train, y_test = train_test_split(x_scaled, y, test_size=0.3, random_state=1)"
   ]
  },
  {
   "cell_type": "code",
   "execution_count": 47,
   "metadata": {},
   "outputs": [
    {
     "name": "stdout",
     "output_type": "stream",
     "text": [
      "Epoch 1/100\n",
      "1534/1534 [==============================] - 8s 4ms/step - loss: 492783200.0000 - mae: 20172.7188 - val_loss: 63855164.0000 - val_mae: 6358.0874\n",
      "Epoch 2/100\n",
      "1534/1534 [==============================] - 5s 3ms/step - loss: 52986416.0000 - mae: 5732.1592 - val_loss: 25076456.0000 - val_mae: 3822.8091\n",
      "Epoch 3/100\n",
      "1534/1534 [==============================] - 6s 4ms/step - loss: 35615392.0000 - mae: 4697.7373 - val_loss: 15087890.0000 - val_mae: 2965.2693\n",
      "Epoch 4/100\n",
      "1534/1534 [==============================] - 6s 4ms/step - loss: 28710736.0000 - mae: 4234.6567 - val_loss: 10341279.0000 - val_mae: 2462.3330\n",
      "Epoch 5/100\n",
      "1534/1534 [==============================] - 6s 4ms/step - loss: 24835020.0000 - mae: 3942.7781 - val_loss: 8078309.5000 - val_mae: 2184.1909\n",
      "Epoch 6/100\n",
      "1534/1534 [==============================] - 5s 3ms/step - loss: 23195388.0000 - mae: 3824.8625 - val_loss: 7079214.0000 - val_mae: 2047.6272\n",
      "Epoch 7/100\n",
      "1534/1534 [==============================] - 7s 5ms/step - loss: 22315964.0000 - mae: 3749.2312 - val_loss: 6495562.0000 - val_mae: 1973.5844\n",
      "Epoch 8/100\n",
      "1534/1534 [==============================] - 7s 5ms/step - loss: 21816632.0000 - mae: 3707.5825 - val_loss: 6259279.5000 - val_mae: 1938.9969\n",
      "Epoch 9/100\n",
      "1534/1534 [==============================] - 7s 4ms/step - loss: 21656160.0000 - mae: 3689.8223 - val_loss: 6077505.5000 - val_mae: 1913.1428\n",
      "Epoch 10/100\n",
      "1534/1534 [==============================] - 7s 5ms/step - loss: 21443334.0000 - mae: 3668.3821 - val_loss: 5887756.5000 - val_mae: 1887.0015\n",
      "Epoch 11/100\n",
      "1534/1534 [==============================] - 6s 4ms/step - loss: 20893538.0000 - mae: 3625.5234 - val_loss: 6284213.5000 - val_mae: 1938.9655\n",
      "Epoch 12/100\n",
      "1534/1534 [==============================] - 6s 4ms/step - loss: 20857552.0000 - mae: 3626.1008 - val_loss: 5738824.5000 - val_mae: 1866.6918\n",
      "Epoch 13/100\n",
      "1534/1534 [==============================] - 5s 3ms/step - loss: 20669804.0000 - mae: 3612.0469 - val_loss: 5890342.5000 - val_mae: 1884.3213\n",
      "Epoch 14/100\n",
      "1534/1534 [==============================] - 5s 3ms/step - loss: 20652496.0000 - mae: 3601.3494 - val_loss: 5908167.5000 - val_mae: 1886.5410\n",
      "Epoch 15/100\n",
      "1534/1534 [==============================] - 5s 3ms/step - loss: 20598950.0000 - mae: 3602.5378 - val_loss: 5816918.0000 - val_mae: 1876.6304\n",
      "Epoch 16/100\n",
      "1534/1534 [==============================] - 6s 4ms/step - loss: 20465750.0000 - mae: 3589.9797 - val_loss: 5774725.5000 - val_mae: 1866.5873\n",
      "Epoch 17/100\n",
      "1534/1534 [==============================] - 6s 4ms/step - loss: 20331482.0000 - mae: 3571.2805 - val_loss: 6013789.5000 - val_mae: 1903.6633\n",
      "Epoch 18/100\n",
      "1534/1534 [==============================] - 5s 4ms/step - loss: 20317616.0000 - mae: 3588.2070 - val_loss: 5756043.0000 - val_mae: 1861.3795\n",
      "Epoch 19/100\n",
      "1534/1534 [==============================] - 5s 3ms/step - loss: 20573120.0000 - mae: 3583.9463 - val_loss: 5901380.5000 - val_mae: 1889.5289\n",
      "Epoch 20/100\n",
      "1534/1534 [==============================] - 5s 3ms/step - loss: 20311806.0000 - mae: 3581.9866 - val_loss: 5855753.5000 - val_mae: 1875.5359\n",
      "Epoch 21/100\n",
      "1534/1534 [==============================] - 6s 4ms/step - loss: 20055568.0000 - mae: 3558.3782 - val_loss: 5816416.0000 - val_mae: 1871.4905\n",
      "Epoch 22/100\n",
      "1534/1534 [==============================] - 5s 3ms/step - loss: 20353270.0000 - mae: 3582.9541 - val_loss: 5883146.5000 - val_mae: 1879.7618\n",
      "Epoch 23/100\n",
      "1534/1534 [==============================] - 5s 3ms/step - loss: 20505484.0000 - mae: 3581.3149 - val_loss: 5615786.0000 - val_mae: 1838.9293\n",
      "Epoch 24/100\n",
      "1534/1534 [==============================] - 5s 4ms/step - loss: 20648366.0000 - mae: 3607.6140 - val_loss: 5874143.5000 - val_mae: 1872.1772\n",
      "Epoch 25/100\n",
      "1534/1534 [==============================] - 5s 4ms/step - loss: 20104262.0000 - mae: 3556.3882 - val_loss: 5822073.0000 - val_mae: 1875.9810\n",
      "Epoch 26/100\n",
      "1534/1534 [==============================] - 6s 4ms/step - loss: 19963160.0000 - mae: 3545.4534 - val_loss: 5645145.0000 - val_mae: 1844.3855\n",
      "Epoch 27/100\n",
      "1534/1534 [==============================] - 7s 4ms/step - loss: 20001270.0000 - mae: 3540.3213 - val_loss: 5817263.0000 - val_mae: 1869.0219\n",
      "Epoch 28/100\n",
      "1534/1534 [==============================] - 6s 4ms/step - loss: 20105858.0000 - mae: 3560.2988 - val_loss: 5755181.5000 - val_mae: 1857.1140\n",
      "Epoch 29/100\n",
      "1534/1534 [==============================] - 6s 4ms/step - loss: 20275532.0000 - mae: 3569.3826 - val_loss: 5650137.5000 - val_mae: 1837.8776\n",
      "Epoch 30/100\n",
      "1534/1534 [==============================] - 6s 4ms/step - loss: 19670578.0000 - mae: 3508.4561 - val_loss: 5817485.0000 - val_mae: 1859.1510\n",
      "Epoch 31/100\n",
      "1534/1534 [==============================] - 6s 4ms/step - loss: 19799902.0000 - mae: 3536.5654 - val_loss: 5626702.5000 - val_mae: 1835.7961\n",
      "Epoch 32/100\n",
      "1534/1534 [==============================] - 6s 4ms/step - loss: 19772352.0000 - mae: 3521.1038 - val_loss: 5862892.5000 - val_mae: 1872.0502\n",
      "Epoch 33/100\n",
      "1534/1534 [==============================] - 6s 4ms/step - loss: 19929014.0000 - mae: 3539.2314 - val_loss: 5723908.5000 - val_mae: 1846.7435\n",
      "Epoch 34/100\n",
      "1534/1534 [==============================] - 5s 4ms/step - loss: 19967528.0000 - mae: 3541.7866 - val_loss: 5661371.0000 - val_mae: 1842.6041\n",
      "Epoch 35/100\n",
      "1534/1534 [==============================] - 5s 4ms/step - loss: 19908976.0000 - mae: 3535.4890 - val_loss: 5726513.5000 - val_mae: 1853.8820\n",
      "Epoch 36/100\n",
      "1534/1534 [==============================] - 6s 4ms/step - loss: 19958560.0000 - mae: 3538.6101 - val_loss: 5708132.5000 - val_mae: 1850.0806\n",
      "Epoch 37/100\n",
      "1534/1534 [==============================] - 6s 4ms/step - loss: 19782716.0000 - mae: 3523.3357 - val_loss: 5660340.5000 - val_mae: 1841.6658\n",
      "Epoch 38/100\n",
      "1534/1534 [==============================] - 6s 4ms/step - loss: 19845128.0000 - mae: 3532.9404 - val_loss: 5694773.5000 - val_mae: 1843.5509\n",
      "Epoch 39/100\n",
      "1534/1534 [==============================] - 6s 4ms/step - loss: 19959352.0000 - mae: 3538.9497 - val_loss: 5879677.0000 - val_mae: 1877.3425\n",
      "Epoch 40/100\n",
      "1534/1534 [==============================] - 6s 4ms/step - loss: 19702252.0000 - mae: 3523.1216 - val_loss: 5804706.0000 - val_mae: 1870.9805\n",
      "Epoch 41/100\n",
      "1534/1534 [==============================] - 6s 4ms/step - loss: 20026904.0000 - mae: 3545.6462 - val_loss: 5748399.0000 - val_mae: 1857.3435\n",
      "Epoch 42/100\n",
      "1534/1534 [==============================] - 6s 4ms/step - loss: 20015668.0000 - mae: 3544.5798 - val_loss: 5726057.0000 - val_mae: 1859.0483\n",
      "Epoch 43/100\n",
      "1534/1534 [==============================] - 6s 4ms/step - loss: 19949152.0000 - mae: 3539.2473 - val_loss: 5832377.5000 - val_mae: 1864.8884\n",
      "Epoch 44/100\n",
      "1534/1534 [==============================] - 6s 4ms/step - loss: 19968212.0000 - mae: 3547.8745 - val_loss: 5705389.0000 - val_mae: 1851.5123\n",
      "Epoch 45/100\n",
      "1534/1534 [==============================] - 5s 3ms/step - loss: 19745178.0000 - mae: 3521.8013 - val_loss: 5642519.5000 - val_mae: 1839.5839\n",
      "Epoch 46/100\n",
      "1534/1534 [==============================] - 5s 3ms/step - loss: 19859734.0000 - mae: 3526.5610 - val_loss: 5585760.0000 - val_mae: 1832.7460\n",
      "Epoch 47/100\n",
      "1534/1534 [==============================] - 6s 4ms/step - loss: 19829730.0000 - mae: 3530.6272 - val_loss: 5773498.0000 - val_mae: 1868.1388\n",
      "Epoch 48/100\n",
      "1534/1534 [==============================] - 6s 4ms/step - loss: 19695948.0000 - mae: 3515.8650 - val_loss: 5647237.5000 - val_mae: 1840.8707\n",
      "Epoch 49/100\n",
      "1534/1534 [==============================] - 5s 3ms/step - loss: 19906160.0000 - mae: 3528.6018 - val_loss: 5945980.0000 - val_mae: 1898.1016\n",
      "Epoch 50/100\n",
      "1534/1534 [==============================] - 5s 4ms/step - loss: 19697132.0000 - mae: 3518.6851 - val_loss: 5644107.5000 - val_mae: 1834.7751\n",
      "Epoch 51/100\n",
      "1534/1534 [==============================] - 5s 3ms/step - loss: 19547800.0000 - mae: 3509.3337 - val_loss: 5690973.0000 - val_mae: 1842.5536\n",
      "Epoch 52/100\n",
      "1534/1534 [==============================] - 5s 3ms/step - loss: 19758632.0000 - mae: 3525.5859 - val_loss: 5740923.0000 - val_mae: 1856.3325\n",
      "Epoch 53/100\n",
      "1534/1534 [==============================] - 6s 4ms/step - loss: 19718072.0000 - mae: 3524.8796 - val_loss: 5449727.0000 - val_mae: 1814.0757\n",
      "Epoch 54/100\n",
      "1534/1534 [==============================] - 6s 4ms/step - loss: 19672748.0000 - mae: 3518.6750 - val_loss: 5629612.5000 - val_mae: 1840.9072\n",
      "Epoch 55/100\n",
      "1534/1534 [==============================] - 6s 4ms/step - loss: 19668264.0000 - mae: 3504.9409 - val_loss: 5836795.5000 - val_mae: 1867.9076\n",
      "Epoch 56/100\n",
      "1534/1534 [==============================] - 6s 4ms/step - loss: 19756922.0000 - mae: 3529.1382 - val_loss: 5909066.0000 - val_mae: 1894.5728\n",
      "Epoch 57/100\n",
      "1534/1534 [==============================] - 7s 5ms/step - loss: 19662774.0000 - mae: 3518.3503 - val_loss: 5576869.5000 - val_mae: 1833.3215\n",
      "Epoch 58/100\n",
      "1534/1534 [==============================] - 7s 5ms/step - loss: 19514588.0000 - mae: 3498.5110 - val_loss: 5611302.5000 - val_mae: 1834.2823\n",
      "Epoch 59/100\n",
      "1534/1534 [==============================] - 7s 4ms/step - loss: 19501720.0000 - mae: 3495.2781 - val_loss: 5799150.5000 - val_mae: 1856.9758\n",
      "Epoch 60/100\n",
      "1534/1534 [==============================] - 6s 4ms/step - loss: 19711590.0000 - mae: 3509.7217 - val_loss: 5593514.5000 - val_mae: 1836.2654\n",
      "Epoch 61/100\n",
      "1534/1534 [==============================] - 5s 3ms/step - loss: 19526904.0000 - mae: 3500.7207 - val_loss: 5650474.5000 - val_mae: 1838.4526\n",
      "Epoch 62/100\n",
      "1534/1534 [==============================] - 6s 4ms/step - loss: 19678672.0000 - mae: 3521.4404 - val_loss: 5698696.5000 - val_mae: 1846.8323\n",
      "Epoch 63/100\n",
      "1534/1534 [==============================] - 5s 3ms/step - loss: 19781730.0000 - mae: 3515.3811 - val_loss: 5678242.5000 - val_mae: 1841.0935\n",
      "Epoch 64/100\n",
      "1534/1534 [==============================] - 5s 3ms/step - loss: 19630816.0000 - mae: 3503.8979 - val_loss: 5612641.5000 - val_mae: 1835.5112\n",
      "Epoch 65/100\n",
      "1534/1534 [==============================] - 5s 4ms/step - loss: 19293686.0000 - mae: 3487.5762 - val_loss: 5524332.0000 - val_mae: 1825.9772\n",
      "Epoch 66/100\n",
      "1534/1534 [==============================] - 6s 4ms/step - loss: 19775688.0000 - mae: 3525.8726 - val_loss: 5826997.0000 - val_mae: 1873.8206\n",
      "Epoch 67/100\n",
      "1534/1534 [==============================] - 6s 4ms/step - loss: 20096270.0000 - mae: 3543.5469 - val_loss: 5631607.0000 - val_mae: 1836.8099\n",
      "Epoch 68/100\n",
      "1534/1534 [==============================] - 6s 4ms/step - loss: 19638190.0000 - mae: 3516.2766 - val_loss: 5594878.0000 - val_mae: 1829.8253\n",
      "Epoch 69/100\n",
      "1534/1534 [==============================] - 7s 5ms/step - loss: 19750372.0000 - mae: 3527.2483 - val_loss: 5645796.5000 - val_mae: 1837.8793\n",
      "Epoch 70/100\n",
      "1534/1534 [==============================] - 7s 4ms/step - loss: 19681388.0000 - mae: 3508.5237 - val_loss: 5669968.5000 - val_mae: 1840.8601\n",
      "Epoch 71/100\n",
      "1534/1534 [==============================] - 7s 4ms/step - loss: 19793758.0000 - mae: 3530.7986 - val_loss: 5787322.5000 - val_mae: 1861.5342\n",
      "Epoch 72/100\n",
      "1534/1534 [==============================] - 6s 4ms/step - loss: 19776968.0000 - mae: 3518.1870 - val_loss: 5603090.5000 - val_mae: 1835.8400\n",
      "Epoch 73/100\n",
      "1534/1534 [==============================] - 6s 4ms/step - loss: 19515240.0000 - mae: 3495.6301 - val_loss: 5521590.5000 - val_mae: 1822.0952\n",
      "Epoch 74/100\n",
      "1534/1534 [==============================] - 7s 4ms/step - loss: 19623622.0000 - mae: 3522.2861 - val_loss: 5657545.5000 - val_mae: 1841.8691\n",
      "Epoch 75/100\n",
      "1534/1534 [==============================] - 7s 5ms/step - loss: 19663098.0000 - mae: 3516.8032 - val_loss: 5736155.0000 - val_mae: 1850.2695\n",
      "Epoch 76/100\n",
      "1534/1534 [==============================] - 8s 5ms/step - loss: 19741778.0000 - mae: 3519.2803 - val_loss: 5636296.5000 - val_mae: 1837.0255\n",
      "Epoch 77/100\n",
      "1534/1534 [==============================] - 7s 5ms/step - loss: 20091830.0000 - mae: 3539.1023 - val_loss: 5620900.0000 - val_mae: 1842.0612\n",
      "Epoch 78/100\n",
      "1534/1534 [==============================] - 8s 5ms/step - loss: 19490980.0000 - mae: 3489.2717 - val_loss: 5563214.0000 - val_mae: 1830.1798\n",
      "Epoch 79/100\n",
      "1534/1534 [==============================] - 7s 4ms/step - loss: 19684802.0000 - mae: 3520.8521 - val_loss: 5450284.0000 - val_mae: 1811.5249\n",
      "Epoch 80/100\n",
      "1534/1534 [==============================] - 8s 5ms/step - loss: 19770264.0000 - mae: 3527.5750 - val_loss: 5534349.5000 - val_mae: 1819.7548\n",
      "Epoch 81/100\n",
      "1534/1534 [==============================] - 6s 4ms/step - loss: 19677150.0000 - mae: 3509.0303 - val_loss: 5753850.5000 - val_mae: 1853.7025\n",
      "Epoch 82/100\n",
      "1534/1534 [==============================] - 6s 4ms/step - loss: 19564670.0000 - mae: 3499.6238 - val_loss: 5470030.0000 - val_mae: 1815.5505\n",
      "Epoch 83/100\n",
      "1534/1534 [==============================] - 6s 4ms/step - loss: 19560202.0000 - mae: 3503.3462 - val_loss: 5563083.0000 - val_mae: 1829.2415\n",
      "Epoch 84/100\n",
      "1534/1534 [==============================] - 7s 4ms/step - loss: 19775604.0000 - mae: 3514.8665 - val_loss: 5472163.5000 - val_mae: 1814.8629\n",
      "Epoch 85/100\n",
      "1534/1534 [==============================] - 6s 4ms/step - loss: 19690066.0000 - mae: 3510.9707 - val_loss: 5650725.0000 - val_mae: 1837.2156\n",
      "Epoch 86/100\n",
      "1534/1534 [==============================] - 6s 4ms/step - loss: 19376888.0000 - mae: 3480.4482 - val_loss: 5528683.5000 - val_mae: 1825.8496\n",
      "Epoch 87/100\n",
      "1534/1534 [==============================] - 8s 5ms/step - loss: 19547226.0000 - mae: 3514.5630 - val_loss: 5587897.0000 - val_mae: 1829.8519\n",
      "Epoch 88/100\n",
      "1534/1534 [==============================] - 7s 4ms/step - loss: 19231990.0000 - mae: 3475.2102 - val_loss: 5645154.5000 - val_mae: 1835.5044\n",
      "Epoch 89/100\n",
      "1534/1534 [==============================] - 6s 4ms/step - loss: 19519518.0000 - mae: 3494.9338 - val_loss: 5579773.0000 - val_mae: 1826.2192\n",
      "Epoch 90/100\n",
      "1534/1534 [==============================] - 6s 4ms/step - loss: 19534836.0000 - mae: 3507.1702 - val_loss: 5465669.5000 - val_mae: 1817.4496\n",
      "Epoch 91/100\n",
      "1534/1534 [==============================] - 6s 4ms/step - loss: 19692124.0000 - mae: 3521.4783 - val_loss: 5485017.5000 - val_mae: 1814.1445\n",
      "Epoch 92/100\n",
      "1534/1534 [==============================] - 7s 5ms/step - loss: 19276212.0000 - mae: 3480.2578 - val_loss: 5452578.5000 - val_mae: 1813.5781\n",
      "Epoch 93/100\n",
      "1534/1534 [==============================] - 6s 4ms/step - loss: 19372978.0000 - mae: 3490.3752 - val_loss: 5598845.0000 - val_mae: 1831.1013\n",
      "Epoch 94/100\n",
      "1534/1534 [==============================] - 7s 4ms/step - loss: 19905020.0000 - mae: 3545.6140 - val_loss: 5634855.5000 - val_mae: 1838.0483\n",
      "Epoch 95/100\n",
      "1534/1534 [==============================] - 6s 4ms/step - loss: 19388708.0000 - mae: 3487.9895 - val_loss: 5625433.0000 - val_mae: 1836.3434\n",
      "Epoch 96/100\n",
      "1534/1534 [==============================] - 6s 4ms/step - loss: 19227738.0000 - mae: 3470.5605 - val_loss: 5616988.5000 - val_mae: 1835.6964\n",
      "Epoch 97/100\n",
      "1534/1534 [==============================] - 6s 4ms/step - loss: 19392754.0000 - mae: 3478.9788 - val_loss: 5975406.0000 - val_mae: 1893.8606\n",
      "Epoch 98/100\n",
      "1534/1534 [==============================] - 6s 4ms/step - loss: 19557446.0000 - mae: 3496.8528 - val_loss: 5401708.5000 - val_mae: 1803.8867\n",
      "Epoch 99/100\n",
      "1534/1534 [==============================] - 6s 4ms/step - loss: 19348900.0000 - mae: 3488.2527 - val_loss: 5611404.0000 - val_mae: 1833.9133\n",
      "Epoch 100/100\n",
      "1534/1534 [==============================] - 6s 4ms/step - loss: 19784494.0000 - mae: 3515.6228 - val_loss: 5504629.0000 - val_mae: 1818.1846\n"
     ]
    }
   ],
   "source": [
    "# Building the RNN model\n",
    "model = Sequential()\n",
    "\n",
    "# Adding LSTM layers\n",
    "model.add(LSTM(units=64, activation='relu', return_sequences=True, input_shape=(x_train.shape[1], x_train.shape[2])))\n",
    "model.add(Dropout(0.2))\n",
    "\n",
    "model.add(LSTM(units=32, activation='relu', return_sequences=False))\n",
    "model.add(Dropout(0.2))\n",
    "\n",
    "# Adding output layer\n",
    "model.add(Dense(1))\n",
    "\n",
    "# Compile the model\n",
    "model.compile(optimizer='adam', loss='mean_squared_error', metrics=['mae'])\n",
    "# Training the model\n",
    "history = model.fit(x_train, y_train, epochs=100, batch_size=16, validation_data=(x_test, y_test), verbose=1)\n"
   ]
  },
  {
   "cell_type": "code",
   "execution_count": 50,
   "metadata": {},
   "outputs": [
    {
     "name": "stderr",
     "output_type": "stream",
     "text": [
      "C:\\Users\\0819\\AppData\\Roaming\\Python\\Python310\\site-packages\\keras\\src\\engine\\training.py:3103: UserWarning: You are saving your model as an HDF5 file via `model.save()`. This file format is considered legacy. We recommend using instead the native Keras format, e.g. `model.save('my_model.keras')`.\n",
      "  saving_api.save_model(\n"
     ]
    }
   ],
   "source": [
    "# Save the LSTM model to an .h5 file\n",
    "model.save('LSTM_model.h5')"
   ]
  },
  {
   "cell_type": "code",
   "execution_count": 48,
   "metadata": {},
   "outputs": [
    {
     "name": "stdout",
     "output_type": "stream",
     "text": [
      "767/767 [==============================] - 2s 2ms/step\n",
      "R2 Score: 0.7401135584652374\n",
      "Mean Squared Error: 5466230.844797544\n"
     ]
    }
   ],
   "source": [
    "# Predicting and evaluating the model\n",
    "y_pred = model.predict(x_train)\n",
    "\n",
    "# Evaluating the model\n",
    "r2_train = r2_score(y_train, y_pred)\n",
    "mse_train = mean_squared_error(y_train, y_pred)\n",
    "\n",
    "print(\"R2 Score:\", r2_train)\n",
    "print(\"Mean Squared Error:\", mse_train)"
   ]
  },
  {
   "cell_type": "code",
   "execution_count": 49,
   "metadata": {},
   "outputs": [
    {
     "name": "stdout",
     "output_type": "stream",
     "text": [
      "329/329 [==============================] - 1s 2ms/step\n",
      "R2 Score: 0.741212786139623\n",
      "Mean Squared Error: 5504628.894428026\n"
     ]
    }
   ],
   "source": [
    "# Predicting and evaluating the model\n",
    "y_pred = model.predict(x_test)\n",
    "\n",
    "# Evaluating the model\n",
    "r2_test = r2_score(y_test, y_pred)\n",
    "mse_test = mean_squared_error(y_test, y_pred)\n",
    "print(\"R2 Score:\", r2_test)\n",
    "print(\"Mean Squared Error:\", mse_test)"
   ]
  },
  {
   "cell_type": "markdown",
   "metadata": {},
   "source": [
    "### **RNN**"
   ]
  },
  {
   "cell_type": "code",
   "execution_count": 63,
   "metadata": {},
   "outputs": [],
   "source": [
    "import numpy as np\n",
    "from sklearn.model_selection import train_test_split\n",
    "from sklearn.preprocessing import MinMaxScaler\n",
    "import tensorflow as tf\n",
    "from tensorflow.keras.models import Sequential\n",
    "from tensorflow.keras.layers import Dense, SimpleRNN, Dropout\n",
    "import pickle"
   ]
  },
  {
   "cell_type": "code",
   "execution_count": 122,
   "metadata": {},
   "outputs": [],
   "source": [
    "df = pd.read_csv(\"Final_data.csv\")"
   ]
  },
  {
   "cell_type": "code",
   "execution_count": 123,
   "metadata": {},
   "outputs": [
    {
     "name": "stdout",
     "output_type": "stream",
     "text": [
      "Epoch 1/50\n",
      "702/702 [==============================] - 6s 4ms/step - loss: 0.0094 - mae: 0.0642 - val_loss: 7.6766e-04 - val_mae: 0.0212\n",
      "Epoch 2/50\n",
      "702/702 [==============================] - 2s 4ms/step - loss: 0.0029 - mae: 0.0406 - val_loss: 6.3924e-04 - val_mae: 0.0191\n",
      "Epoch 3/50\n",
      "702/702 [==============================] - 3s 4ms/step - loss: 0.0022 - mae: 0.0347 - val_loss: 8.0619e-04 - val_mae: 0.0221\n",
      "Epoch 4/50\n",
      "702/702 [==============================] - 3s 4ms/step - loss: 0.0016 - mae: 0.0300 - val_loss: 4.3420e-04 - val_mae: 0.0151\n",
      "Epoch 5/50\n",
      "702/702 [==============================] - 2s 4ms/step - loss: 0.0014 - mae: 0.0274 - val_loss: 4.5519e-04 - val_mae: 0.0156\n",
      "Epoch 6/50\n",
      "702/702 [==============================] - 3s 4ms/step - loss: 0.0012 - mae: 0.0258 - val_loss: 6.4608e-04 - val_mae: 0.0195\n",
      "Epoch 7/50\n",
      "702/702 [==============================] - 3s 4ms/step - loss: 0.0011 - mae: 0.0250 - val_loss: 5.0504e-04 - val_mae: 0.0167\n",
      "Epoch 8/50\n",
      "702/702 [==============================] - 2s 3ms/step - loss: 0.0011 - mae: 0.0246 - val_loss: 5.9820e-04 - val_mae: 0.0188\n",
      "Epoch 9/50\n",
      "702/702 [==============================] - 3s 4ms/step - loss: 0.0011 - mae: 0.0246 - val_loss: 4.8425e-04 - val_mae: 0.0164\n",
      "Epoch 10/50\n",
      "702/702 [==============================] - 3s 4ms/step - loss: 0.0010 - mae: 0.0242 - val_loss: 4.9278e-04 - val_mae: 0.0168\n",
      "Epoch 11/50\n",
      "702/702 [==============================] - 2s 3ms/step - loss: 0.0010 - mae: 0.0240 - val_loss: 4.6730e-04 - val_mae: 0.0162\n",
      "Epoch 12/50\n",
      "702/702 [==============================] - 3s 4ms/step - loss: 9.6250e-04 - mae: 0.0234 - val_loss: 4.9930e-04 - val_mae: 0.0170\n",
      "Epoch 13/50\n",
      "702/702 [==============================] - 2s 4ms/step - loss: 9.7170e-04 - mae: 0.0235 - val_loss: 4.1654e-04 - val_mae: 0.0148\n",
      "Epoch 14/50\n",
      "702/702 [==============================] - 3s 4ms/step - loss: 9.4951e-04 - mae: 0.0230 - val_loss: 4.5556e-04 - val_mae: 0.0159\n",
      "Epoch 15/50\n",
      "702/702 [==============================] - 3s 4ms/step - loss: 9.6804e-04 - mae: 0.0235 - val_loss: 4.9514e-04 - val_mae: 0.0166\n",
      "Epoch 16/50\n",
      "702/702 [==============================] - 2s 4ms/step - loss: 9.4297e-04 - mae: 0.0231 - val_loss: 5.4407e-04 - val_mae: 0.0178\n",
      "Epoch 17/50\n",
      "702/702 [==============================] - 3s 4ms/step - loss: 9.3816e-04 - mae: 0.0230 - val_loss: 5.4250e-04 - val_mae: 0.0182\n",
      "Epoch 18/50\n",
      "702/702 [==============================] - 2s 4ms/step - loss: 9.1443e-04 - mae: 0.0228 - val_loss: 4.8386e-04 - val_mae: 0.0168\n",
      "Epoch 19/50\n",
      "702/702 [==============================] - 2s 3ms/step - loss: 9.1707e-04 - mae: 0.0228 - val_loss: 4.8659e-04 - val_mae: 0.0168\n",
      "Epoch 20/50\n",
      "702/702 [==============================] - 3s 4ms/step - loss: 9.1175e-04 - mae: 0.0227 - val_loss: 7.1335e-04 - val_mae: 0.0210\n",
      "Epoch 21/50\n",
      "702/702 [==============================] - 2s 3ms/step - loss: 8.9303e-04 - mae: 0.0225 - val_loss: 7.5217e-04 - val_mae: 0.0216\n",
      "Epoch 22/50\n",
      "702/702 [==============================] - 2s 4ms/step - loss: 8.9816e-04 - mae: 0.0225 - val_loss: 7.5401e-04 - val_mae: 0.0215\n",
      "Epoch 23/50\n",
      "702/702 [==============================] - 3s 4ms/step - loss: 8.7305e-04 - mae: 0.0222 - val_loss: 8.4599e-04 - val_mae: 0.0235\n",
      "Epoch 24/50\n",
      "702/702 [==============================] - 2s 4ms/step - loss: 8.8566e-04 - mae: 0.0223 - val_loss: 4.4513e-04 - val_mae: 0.0160\n",
      "Epoch 25/50\n",
      "702/702 [==============================] - 3s 4ms/step - loss: 8.9748e-04 - mae: 0.0225 - val_loss: 6.2693e-04 - val_mae: 0.0194\n",
      "Epoch 26/50\n",
      "702/702 [==============================] - 2s 4ms/step - loss: 8.8658e-04 - mae: 0.0223 - val_loss: 5.6637e-04 - val_mae: 0.0186\n",
      "Epoch 27/50\n",
      "702/702 [==============================] - 3s 4ms/step - loss: 8.9254e-04 - mae: 0.0225 - val_loss: 6.6281e-04 - val_mae: 0.0202\n",
      "Epoch 28/50\n",
      "702/702 [==============================] - 3s 4ms/step - loss: 8.6490e-04 - mae: 0.0222 - val_loss: 5.5389e-04 - val_mae: 0.0184\n",
      "Epoch 29/50\n",
      "702/702 [==============================] - 3s 4ms/step - loss: 8.5640e-04 - mae: 0.0220 - val_loss: 9.4025e-04 - val_mae: 0.0247\n",
      "Epoch 30/50\n",
      "702/702 [==============================] - 3s 4ms/step - loss: 8.9311e-04 - mae: 0.0225 - val_loss: 9.1035e-04 - val_mae: 0.0249\n",
      "Epoch 31/50\n",
      "702/702 [==============================] - 3s 4ms/step - loss: 8.5097e-04 - mae: 0.0219 - val_loss: 5.6715e-04 - val_mae: 0.0184\n",
      "Epoch 32/50\n",
      "702/702 [==============================] - 2s 3ms/step - loss: 8.5257e-04 - mae: 0.0219 - val_loss: 4.3137e-04 - val_mae: 0.0156\n",
      "Epoch 33/50\n",
      "702/702 [==============================] - 2s 4ms/step - loss: 8.5802e-04 - mae: 0.0219 - val_loss: 9.1290e-04 - val_mae: 0.0243\n",
      "Epoch 34/50\n",
      "702/702 [==============================] - 3s 4ms/step - loss: 8.4247e-04 - mae: 0.0219 - val_loss: 6.3634e-04 - val_mae: 0.0198\n",
      "Epoch 35/50\n",
      "702/702 [==============================] - 2s 3ms/step - loss: 8.5336e-04 - mae: 0.0220 - val_loss: 6.3018e-04 - val_mae: 0.0202\n",
      "Epoch 36/50\n",
      "702/702 [==============================] - 3s 4ms/step - loss: 8.4492e-04 - mae: 0.0218 - val_loss: 6.8864e-04 - val_mae: 0.0209\n",
      "Epoch 37/50\n",
      "702/702 [==============================] - 2s 4ms/step - loss: 8.6498e-04 - mae: 0.0221 - val_loss: 5.8574e-04 - val_mae: 0.0191\n",
      "Epoch 38/50\n",
      "702/702 [==============================] - 2s 3ms/step - loss: 8.4950e-04 - mae: 0.0219 - val_loss: 8.3168e-04 - val_mae: 0.0228\n",
      "Epoch 39/50\n",
      "702/702 [==============================] - 3s 4ms/step - loss: 8.7783e-04 - mae: 0.0222 - val_loss: 7.6725e-04 - val_mae: 0.0221\n",
      "Epoch 40/50\n",
      "702/702 [==============================] - 2s 3ms/step - loss: 8.5417e-04 - mae: 0.0221 - val_loss: 6.3870e-04 - val_mae: 0.0198\n",
      "Epoch 41/50\n",
      "702/702 [==============================] - 2s 3ms/step - loss: 8.3674e-04 - mae: 0.0218 - val_loss: 8.5886e-04 - val_mae: 0.0233\n",
      "Epoch 42/50\n",
      "702/702 [==============================] - 3s 4ms/step - loss: 8.5886e-04 - mae: 0.0220 - val_loss: 6.7626e-04 - val_mae: 0.0209\n",
      "Epoch 43/50\n",
      "702/702 [==============================] - 2s 4ms/step - loss: 8.5252e-04 - mae: 0.0219 - val_loss: 6.1984e-04 - val_mae: 0.0199\n",
      "Epoch 44/50\n",
      "702/702 [==============================] - 2s 4ms/step - loss: 8.4392e-04 - mae: 0.0218 - val_loss: 6.3062e-04 - val_mae: 0.0197\n",
      "Epoch 45/50\n",
      "702/702 [==============================] - 2s 4ms/step - loss: 8.5940e-04 - mae: 0.0221 - val_loss: 6.5257e-04 - val_mae: 0.0206\n",
      "Epoch 46/50\n",
      "702/702 [==============================] - 3s 4ms/step - loss: 8.6612e-04 - mae: 0.0221 - val_loss: 6.0681e-04 - val_mae: 0.0195\n",
      "Epoch 47/50\n",
      "702/702 [==============================] - 3s 4ms/step - loss: 8.4434e-04 - mae: 0.0219 - val_loss: 4.9207e-04 - val_mae: 0.0172\n",
      "Epoch 48/50\n",
      "702/702 [==============================] - 3s 4ms/step - loss: 8.4555e-04 - mae: 0.0217 - val_loss: 9.8744e-04 - val_mae: 0.0248\n",
      "Epoch 49/50\n",
      "702/702 [==============================] - 3s 4ms/step - loss: 8.3515e-04 - mae: 0.0217 - val_loss: 7.2510e-04 - val_mae: 0.0217\n",
      "Epoch 50/50\n",
      "702/702 [==============================] - 2s 3ms/step - loss: 8.6281e-04 - mae: 0.0220 - val_loss: 9.5034e-04 - val_mae: 0.0246\n"
     ]
    }
   ],
   "source": [
    "# Separate features and target\n",
    "X = df.drop(columns=['total load forecast'])\n",
    "y = df['total load forecast']\n",
    "\n",
    "# Scale the data\n",
    "scaler_X = MinMaxScaler()\n",
    "scaler_y = MinMaxScaler()\n",
    "\n",
    "X_scaled = scaler_X.fit_transform(X)\n",
    "y_scaled = scaler_y.fit_transform(y.values.reshape(-1, 1))\n",
    "\n",
    "# Split data into training and testing sets\n",
    "X_train, X_test, y_train, y_test = train_test_split(X_scaled, y_scaled, test_size=0.2, random_state=42)\n",
    "\n",
    "# Reshape input data for RNN [samples, timesteps, features]\n",
    "X_train_reshaped = X_train.reshape((X_train.shape[0], 1, X_train.shape[1]))\n",
    "X_test_reshaped = X_test.reshape((X_test.shape[0], 1, X_test.shape[1]))\n",
    "\n",
    "# RNN Model\n",
    "model = Sequential([\n",
    "    SimpleRNN(128, activation='relu', return_sequences=True, input_shape=(1, X_train.shape[1])),\n",
    "    Dropout(0.2),\n",
    "    SimpleRNN(64, activation='relu'),\n",
    "    Dropout(0.2),\n",
    "    Dense(1, activation='linear')\n",
    "])\n",
    "\n",
    "# Compile the model\n",
    "model.compile(optimizer='adam', loss='mse', metrics=['mae'])\n",
    "\n",
    "# Train the model\n",
    "history = model.fit(X_train_reshaped, y_train, epochs=50, batch_size=32, validation_split=0.2, verbose=1)"
   ]
  },
  {
   "cell_type": "code",
   "execution_count": 124,
   "metadata": {},
   "outputs": [],
   "source": [
    "# Save the scalers to disk\n",
    "with open('scaler_X.pkl', 'wb') as file_X:\n",
    "    pickle.dump(X_scaled, file_X)\n",
    "\n",
    "with open('scaler_y.pkl', 'wb') as file_y:\n",
    "    pickle.dump(y_scaled, file_y)"
   ]
  },
  {
   "cell_type": "code",
   "execution_count": 125,
   "metadata": {},
   "outputs": [
    {
     "name": "stdout",
     "output_type": "stream",
     "text": [
      "877/877 [==============================] - 2s 2ms/step\n",
      "R2 Score: 0.9757937472285323\n",
      "Mean Squared Error: 511457.681211149\n"
     ]
    }
   ],
   "source": [
    "# Predicting and evaluating the model\n",
    "y_pred = model.predict(X_train_reshaped)\n",
    "y_train_pred = scaler_y.inverse_transform(y_pred)\n",
    "y_train_actual = scaler_y.inverse_transform(y_train)\n",
    "\n",
    "# Evaluating the model\n",
    "r2_train = r2_score(y_train_actual, y_train_pred)\n",
    "mse_train = mean_squared_error(y_train_actual, y_train_pred)\n",
    "\n",
    "print(\"R2 Score:\", r2_train)\n",
    "print(\"Mean Squared Error:\", mse_train)"
   ]
  },
  {
   "cell_type": "code",
   "execution_count": 126,
   "metadata": {},
   "outputs": [
    {
     "name": "stdout",
     "output_type": "stream",
     "text": [
      "220/220 [==============================] - 0s 2ms/step\n",
      "R2 Score: 0.9749889616765578\n",
      "Mean Squared Error: 525451.6415365201\n"
     ]
    }
   ],
   "source": [
    "# Predicting and evaluating the model\n",
    "y_pred = model.predict(X_test_reshaped)\n",
    "y_test_pred = scaler_y.inverse_transform(y_pred)\n",
    "y_test_actual = scaler_y.inverse_transform(y_test)\n",
    "\n",
    "# Evaluating the model\n",
    "r2_train = r2_score(y_test_actual, y_test_pred)\n",
    "mse_train = mean_squared_error(y_test_actual, y_test_pred)\n",
    "\n",
    "print(\"R2 Score:\", r2_train)\n",
    "print(\"Mean Squared Error:\", mse_train)"
   ]
  },
  {
   "cell_type": "code",
   "execution_count": 127,
   "metadata": {},
   "outputs": [
    {
     "name": "stderr",
     "output_type": "stream",
     "text": [
      "C:\\Users\\0819\\AppData\\Roaming\\Python\\Python310\\site-packages\\keras\\src\\engine\\training.py:3103: UserWarning: You are saving your model as an HDF5 file via `model.save()`. This file format is considered legacy. We recommend using instead the native Keras format, e.g. `model.save('my_model.keras')`.\n",
      "  saving_api.save_model(\n"
     ]
    }
   ],
   "source": [
    "# Save the LSTM model to an .h5 file\n",
    "model.save('RNN_model.h5')"
   ]
  },
  {
   "cell_type": "code",
   "execution_count": 113,
   "metadata": {},
   "outputs": [],
   "source": [
    "# Combine X and y into one DataFrame\n",
    "data = pd.concat([x, y], axis=1)\n",
    "\n",
    "# Save the DataFrame to a CSV file\n",
    "data.to_csv('Final_data.csv', index=False)"
   ]
  },
  {
   "cell_type": "markdown",
   "metadata": {},
   "source": [
    "### **RNN For Prize**"
   ]
  },
  {
   "cell_type": "code",
   "execution_count": 80,
   "metadata": {},
   "outputs": [
    {
     "data": {
      "text/plain": [
       "Index(['time', 'generation biomass', 'generation fossil brown coal/lignite',\n",
       "       'generation fossil coal-derived gas', 'generation fossil gas',\n",
       "       'generation fossil hard coal', 'generation fossil oil',\n",
       "       'generation fossil oil shale', 'generation fossil peat',\n",
       "       'generation geothermal', 'generation hydro pumped storage aggregated',\n",
       "       'generation hydro pumped storage consumption',\n",
       "       'generation hydro run-of-river and poundage',\n",
       "       'generation hydro water reservoir', 'generation marine',\n",
       "       'generation nuclear', 'generation other', 'generation other renewable',\n",
       "       'generation solar', 'generation waste', 'generation wind offshore',\n",
       "       'generation wind onshore', 'forecast solar day ahead',\n",
       "       'forecast wind offshore eday ahead', 'forecast wind onshore day ahead',\n",
       "       'total load forecast', 'total load actual', 'price day ahead',\n",
       "       'price actual'],\n",
       "      dtype='object')"
      ]
     },
     "execution_count": 80,
     "metadata": {},
     "output_type": "execute_result"
    }
   ],
   "source": [
    "df1 = pd.read_csv(\"energy_dataset.csv\")\n",
    "df1 = df1.ffill().bfill()\n",
    "df1.columns"
   ]
  },
  {
   "cell_type": "code",
   "execution_count": 81,
   "metadata": {},
   "outputs": [],
   "source": [
    "input = df1[['generation fossil gas', 'generation fossil oil',\n",
    "       'generation hydro pumped storage consumption',\n",
    "       'generation hydro water reservoir', 'generation solar',\n",
    "       'forecast solar day ahead']]"
   ]
  },
  {
   "cell_type": "code",
   "execution_count": 82,
   "metadata": {},
   "outputs": [
    {
     "name": "stdout",
     "output_type": "stream",
     "text": [
      "Epoch 1/50\n",
      "702/702 [==============================] - 6s 4ms/step - loss: 0.0172 - mae: 0.1008 - val_loss: 0.0125 - val_mae: 0.0869\n",
      "Epoch 2/50\n",
      "702/702 [==============================] - 3s 4ms/step - loss: 0.0128 - mae: 0.0872 - val_loss: 0.0116 - val_mae: 0.0816\n",
      "Epoch 3/50\n",
      "702/702 [==============================] - 3s 4ms/step - loss: 0.0121 - mae: 0.0843 - val_loss: 0.0114 - val_mae: 0.0803\n",
      "Epoch 4/50\n",
      "702/702 [==============================] - 3s 4ms/step - loss: 0.0117 - mae: 0.0827 - val_loss: 0.0112 - val_mae: 0.0798\n",
      "Epoch 5/50\n",
      "702/702 [==============================] - 3s 4ms/step - loss: 0.0115 - mae: 0.0820 - val_loss: 0.0111 - val_mae: 0.0793\n",
      "Epoch 6/50\n",
      "702/702 [==============================] - 3s 4ms/step - loss: 0.0113 - mae: 0.0807 - val_loss: 0.0109 - val_mae: 0.0781\n",
      "Epoch 7/50\n",
      "702/702 [==============================] - 3s 4ms/step - loss: 0.0112 - mae: 0.0805 - val_loss: 0.0116 - val_mae: 0.0812\n",
      "Epoch 8/50\n",
      "702/702 [==============================] - 3s 4ms/step - loss: 0.0112 - mae: 0.0803 - val_loss: 0.0111 - val_mae: 0.0794\n",
      "Epoch 9/50\n",
      "702/702 [==============================] - 3s 4ms/step - loss: 0.0111 - mae: 0.0800 - val_loss: 0.0111 - val_mae: 0.0802\n",
      "Epoch 10/50\n",
      "702/702 [==============================] - 3s 4ms/step - loss: 0.0110 - mae: 0.0798 - val_loss: 0.0109 - val_mae: 0.0783\n",
      "Epoch 11/50\n",
      "702/702 [==============================] - 2s 3ms/step - loss: 0.0110 - mae: 0.0798 - val_loss: 0.0108 - val_mae: 0.0785\n",
      "Epoch 12/50\n",
      "702/702 [==============================] - 3s 4ms/step - loss: 0.0110 - mae: 0.0794 - val_loss: 0.0108 - val_mae: 0.0789\n",
      "Epoch 13/50\n",
      "702/702 [==============================] - 3s 4ms/step - loss: 0.0110 - mae: 0.0795 - val_loss: 0.0109 - val_mae: 0.0781\n",
      "Epoch 14/50\n",
      "702/702 [==============================] - 3s 4ms/step - loss: 0.0109 - mae: 0.0792 - val_loss: 0.0108 - val_mae: 0.0777\n",
      "Epoch 15/50\n",
      "702/702 [==============================] - 3s 4ms/step - loss: 0.0109 - mae: 0.0792 - val_loss: 0.0109 - val_mae: 0.0785\n",
      "Epoch 16/50\n",
      "702/702 [==============================] - 3s 4ms/step - loss: 0.0110 - mae: 0.0793 - val_loss: 0.0109 - val_mae: 0.0795\n",
      "Epoch 17/50\n",
      "702/702 [==============================] - 3s 4ms/step - loss: 0.0109 - mae: 0.0792 - val_loss: 0.0113 - val_mae: 0.0812\n",
      "Epoch 18/50\n",
      "702/702 [==============================] - 3s 4ms/step - loss: 0.0109 - mae: 0.0791 - val_loss: 0.0108 - val_mae: 0.0782\n",
      "Epoch 19/50\n",
      "702/702 [==============================] - 4s 6ms/step - loss: 0.0109 - mae: 0.0791 - val_loss: 0.0110 - val_mae: 0.0797\n",
      "Epoch 20/50\n",
      "702/702 [==============================] - 3s 4ms/step - loss: 0.0109 - mae: 0.0791 - val_loss: 0.0108 - val_mae: 0.0781\n",
      "Epoch 21/50\n",
      "702/702 [==============================] - 2s 4ms/step - loss: 0.0109 - mae: 0.0791 - val_loss: 0.0108 - val_mae: 0.0782\n",
      "Epoch 22/50\n",
      "702/702 [==============================] - 3s 4ms/step - loss: 0.0109 - mae: 0.0792 - val_loss: 0.0109 - val_mae: 0.0789\n",
      "Epoch 23/50\n",
      "702/702 [==============================] - 3s 4ms/step - loss: 0.0108 - mae: 0.0788 - val_loss: 0.0107 - val_mae: 0.0778\n",
      "Epoch 24/50\n",
      "702/702 [==============================] - 3s 4ms/step - loss: 0.0109 - mae: 0.0790 - val_loss: 0.0107 - val_mae: 0.0784\n",
      "Epoch 25/50\n",
      "702/702 [==============================] - 3s 4ms/step - loss: 0.0108 - mae: 0.0786 - val_loss: 0.0108 - val_mae: 0.0774\n",
      "Epoch 26/50\n",
      "702/702 [==============================] - 3s 4ms/step - loss: 0.0108 - mae: 0.0786 - val_loss: 0.0108 - val_mae: 0.0779\n",
      "Epoch 27/50\n",
      "702/702 [==============================] - 3s 4ms/step - loss: 0.0108 - mae: 0.0786 - val_loss: 0.0106 - val_mae: 0.0773\n",
      "Epoch 28/50\n",
      "702/702 [==============================] - 3s 4ms/step - loss: 0.0109 - mae: 0.0788 - val_loss: 0.0107 - val_mae: 0.0778\n",
      "Epoch 29/50\n",
      "702/702 [==============================] - 3s 4ms/step - loss: 0.0108 - mae: 0.0787 - val_loss: 0.0106 - val_mae: 0.0774\n",
      "Epoch 30/50\n",
      "702/702 [==============================] - 3s 4ms/step - loss: 0.0108 - mae: 0.0787 - val_loss: 0.0106 - val_mae: 0.0774\n",
      "Epoch 31/50\n",
      "702/702 [==============================] - 2s 3ms/step - loss: 0.0108 - mae: 0.0786 - val_loss: 0.0108 - val_mae: 0.0780\n",
      "Epoch 32/50\n",
      "702/702 [==============================] - 3s 4ms/step - loss: 0.0108 - mae: 0.0784 - val_loss: 0.0108 - val_mae: 0.0775\n",
      "Epoch 33/50\n",
      "702/702 [==============================] - 2s 4ms/step - loss: 0.0108 - mae: 0.0786 - val_loss: 0.0107 - val_mae: 0.0768\n",
      "Epoch 34/50\n",
      "702/702 [==============================] - 3s 4ms/step - loss: 0.0108 - mae: 0.0787 - val_loss: 0.0107 - val_mae: 0.0777\n",
      "Epoch 35/50\n",
      "702/702 [==============================] - 3s 4ms/step - loss: 0.0108 - mae: 0.0785 - val_loss: 0.0105 - val_mae: 0.0771\n",
      "Epoch 36/50\n",
      "702/702 [==============================] - 2s 3ms/step - loss: 0.0107 - mae: 0.0784 - val_loss: 0.0106 - val_mae: 0.0776\n",
      "Epoch 37/50\n",
      "702/702 [==============================] - 3s 4ms/step - loss: 0.0107 - mae: 0.0783 - val_loss: 0.0106 - val_mae: 0.0771\n",
      "Epoch 38/50\n",
      "702/702 [==============================] - 3s 4ms/step - loss: 0.0107 - mae: 0.0783 - val_loss: 0.0108 - val_mae: 0.0786\n",
      "Epoch 39/50\n",
      "702/702 [==============================] - 3s 4ms/step - loss: 0.0107 - mae: 0.0781 - val_loss: 0.0106 - val_mae: 0.0779\n",
      "Epoch 40/50\n",
      "702/702 [==============================] - 2s 3ms/step - loss: 0.0107 - mae: 0.0783 - val_loss: 0.0107 - val_mae: 0.0776\n",
      "Epoch 41/50\n",
      "702/702 [==============================] - 3s 4ms/step - loss: 0.0107 - mae: 0.0783 - val_loss: 0.0105 - val_mae: 0.0769\n",
      "Epoch 42/50\n",
      "702/702 [==============================] - 2s 3ms/step - loss: 0.0107 - mae: 0.0783 - val_loss: 0.0106 - val_mae: 0.0765\n",
      "Epoch 43/50\n",
      "702/702 [==============================] - 3s 4ms/step - loss: 0.0106 - mae: 0.0779 - val_loss: 0.0105 - val_mae: 0.0767\n",
      "Epoch 44/50\n",
      "702/702 [==============================] - 2s 4ms/step - loss: 0.0107 - mae: 0.0784 - val_loss: 0.0105 - val_mae: 0.0768\n",
      "Epoch 45/50\n",
      "702/702 [==============================] - 2s 3ms/step - loss: 0.0107 - mae: 0.0781 - val_loss: 0.0106 - val_mae: 0.0776\n",
      "Epoch 46/50\n",
      "702/702 [==============================] - 3s 4ms/step - loss: 0.0107 - mae: 0.0782 - val_loss: 0.0106 - val_mae: 0.0770\n",
      "Epoch 47/50\n",
      "702/702 [==============================] - 3s 4ms/step - loss: 0.0107 - mae: 0.0780 - val_loss: 0.0107 - val_mae: 0.0774\n",
      "Epoch 48/50\n",
      "702/702 [==============================] - 3s 5ms/step - loss: 0.0107 - mae: 0.0783 - val_loss: 0.0105 - val_mae: 0.0772\n",
      "Epoch 49/50\n",
      "702/702 [==============================] - 3s 4ms/step - loss: 0.0106 - mae: 0.0780 - val_loss: 0.0104 - val_mae: 0.0764\n",
      "Epoch 50/50\n",
      "702/702 [==============================] - 3s 4ms/step - loss: 0.0106 - mae: 0.0777 - val_loss: 0.0106 - val_mae: 0.0776\n"
     ]
    }
   ],
   "source": [
    "# Separate features and target\n",
    "X = input\n",
    "y = df1['price actual']\n",
    "\n",
    "# Scale the data\n",
    "scaler_X = MinMaxScaler()\n",
    "scaler_y = MinMaxScaler()\n",
    "\n",
    "X_scaled = scaler_X.fit_transform(X)\n",
    "y_scaled = scaler_y.fit_transform(y.values.reshape(-1, 1))\n",
    "\n",
    "# Split data into training and testing sets\n",
    "X_train, X_test, y_train, y_test = train_test_split(X_scaled, y_scaled, test_size=0.2, random_state=42)\n",
    "\n",
    "# Reshape input data for RNN [samples, timesteps, features]\n",
    "X_train_reshaped = X_train.reshape((X_train.shape[0], 1, X_train.shape[1]))\n",
    "X_test_reshaped = X_test.reshape((X_test.shape[0], 1, X_test.shape[1]))\n",
    "\n",
    "# RNN Model\n",
    "rnn = Sequential([\n",
    "    SimpleRNN(128, activation='relu', return_sequences=True, input_shape=(1, X_train.shape[1])),\n",
    "    Dropout(0.2),\n",
    "    SimpleRNN(64, activation='relu'),\n",
    "    Dropout(0.2),\n",
    "    Dense(1, activation='linear')\n",
    "])\n",
    "\n",
    "# Compile the model\n",
    "rnn.compile(optimizer='adam', loss='mse', metrics=['mae'])\n",
    "\n",
    "# Train the model\n",
    "history = rnn.fit(X_train_reshaped, y_train, epochs=50, batch_size=32, validation_split=0.2, verbose=1)"
   ]
  },
  {
   "cell_type": "code",
   "execution_count": 83,
   "metadata": {},
   "outputs": [
    {
     "name": "stdout",
     "output_type": "stream",
     "text": [
      "877/877 [==============================] - 2s 2ms/step\n",
      "R2 Score: 0.40370214120698455\n",
      "Mean Squared Error: 120.10629932046358\n"
     ]
    }
   ],
   "source": [
    "# Predicting and evaluating the model\n",
    "y_pred = rnn.predict(X_train_reshaped)\n",
    "y_train_pred = scaler_y.inverse_transform(y_pred)\n",
    "y_train_actual = scaler_y.inverse_transform(y_train)\n",
    "\n",
    "# Evaluating the model\n",
    "r2_train = r2_score(y_train_actual, y_train_pred)\n",
    "mse_train = mean_squared_error(y_train_actual, y_train_pred)\n",
    "\n",
    "print(\"R2 Score:\", r2_train)\n",
    "print(\"Mean Squared Error:\", mse_train)"
   ]
  },
  {
   "cell_type": "code",
   "execution_count": 84,
   "metadata": {},
   "outputs": [
    {
     "name": "stdout",
     "output_type": "stream",
     "text": [
      "220/220 [==============================] - 0s 2ms/step\n",
      "R2 Score: 0.3812544794157018\n",
      "Mean Squared Error: 125.64737457722154\n"
     ]
    }
   ],
   "source": [
    "# Predicting and evaluating the model\n",
    "y_pred = rnn.predict(X_test_reshaped)\n",
    "y_test_pred = scaler_y.inverse_transform(y_pred)\n",
    "y_test_actual = scaler_y.inverse_transform(y_test)\n",
    "\n",
    "# Evaluating the model\n",
    "r2_train = r2_score(y_test_actual, y_test_pred)\n",
    "mse_train = mean_squared_error(y_test_actual, y_test_pred)\n",
    "\n",
    "print(\"R2 Score:\", r2_train)\n",
    "print(\"Mean Squared Error:\", mse_train)"
   ]
  },
  {
   "cell_type": "code",
   "execution_count": null,
   "metadata": {},
   "outputs": [],
   "source": [
    "# Save the LSTM model to an .h5 file\n",
    "model.save('RNN_model_Price.h5')"
   ]
  },
  {
   "cell_type": "markdown",
   "metadata": {},
   "source": [
    "# **----------------------------------------END--------------------------------------------**"
   ]
  },
  {
   "cell_type": "markdown",
   "metadata": {},
   "source": [
    "## **Forecating**"
   ]
  },
  {
   "cell_type": "code",
   "execution_count": 8,
   "metadata": {},
   "outputs": [
    {
     "data": {
      "text/plain": [
       "0    26118.0\n",
       "1    24934.0\n",
       "2    23515.0\n",
       "3    22642.0\n",
       "4    21785.0\n",
       "Name: total load forecast, dtype: float64"
      ]
     },
     "execution_count": 8,
     "metadata": {},
     "output_type": "execute_result"
    }
   ],
   "source": [
    "df1 = df.reset_index()['total load forecast']\n",
    "df1.head()"
   ]
  },
  {
   "cell_type": "code",
   "execution_count": 7,
   "metadata": {},
   "outputs": [],
   "source": [
    "from sklearn.preprocessing import MinMaxScaler\n",
    "scaler = MinMaxScaler(feature_range=(0, 1))\n",
    "df1 = scaler.fit_transform(np.array(df1).reshape(-1, 1))"
   ]
  },
  {
   "cell_type": "code",
   "execution_count": 11,
   "metadata": {},
   "outputs": [
    {
     "data": {
      "text/plain": [
       "22791"
      ]
     },
     "execution_count": 11,
     "metadata": {},
     "output_type": "execute_result"
    }
   ],
   "source": [
    "# Split into train and test sets\n",
    "training_size = int(len(df1) * 0.65)\n",
    "training_size"
   ]
  },
  {
   "cell_type": "code",
   "execution_count": 12,
   "metadata": {},
   "outputs": [],
   "source": [
    "train_data, test_data = df1[0:training_size, :], df1[training_size:len(df1), :1]"
   ]
  },
  {
   "cell_type": "code",
   "execution_count": 37,
   "metadata": {},
   "outputs": [
    {
     "data": {
      "text/plain": [
       "array([[0.34412712],\n",
       "       [0.29327893],\n",
       "       [0.23233842],\n",
       "       ...,\n",
       "       [0.54077732],\n",
       "       [0.51767232],\n",
       "       [0.4617565 ]])"
      ]
     },
     "execution_count": 37,
     "metadata": {},
     "output_type": "execute_result"
    }
   ],
   "source": [
    "train_data"
   ]
  },
  {
   "cell_type": "code",
   "execution_count": 38,
   "metadata": {},
   "outputs": [
    {
     "data": {
      "text/plain": [
       "array([[0.42598239],\n",
       "       [0.41683487],\n",
       "       [0.41735023],\n",
       "       ...,\n",
       "       [0.42078591],\n",
       "       [0.31543912],\n",
       "       [0.27137642]])"
      ]
     },
     "execution_count": 38,
     "metadata": {},
     "output_type": "execute_result"
    }
   ],
   "source": [
    "test_data"
   ]
  },
  {
   "cell_type": "code",
   "execution_count": 39,
   "metadata": {},
   "outputs": [
    {
     "data": {
      "text/plain": [
       "22791"
      ]
     },
     "execution_count": 39,
     "metadata": {},
     "output_type": "execute_result"
    }
   ],
   "source": [
    "len(train_data)"
   ]
  },
  {
   "cell_type": "code",
   "execution_count": 40,
   "metadata": {},
   "outputs": [
    {
     "data": {
      "text/plain": [
       "12273"
      ]
     },
     "execution_count": 40,
     "metadata": {},
     "output_type": "execute_result"
    }
   ],
   "source": [
    "len(test_data)"
   ]
  },
  {
   "cell_type": "code",
   "execution_count": 41,
   "metadata": {},
   "outputs": [],
   "source": [
    "# Define function to create dataset matrices based on time_step\n",
    "def create_dataset(dataset, time_step=22690):\n",
    "    dataX, dataY = [], []\n",
    "    for i in range(len(dataset) - time_step - 1):\n",
    "        dataX.append(dataset[i:(i + time_step), 0])\n",
    "        dataY.append(dataset[i + time_step, 0])\n",
    "    return np.array(dataX), np.array(dataY)"
   ]
  },
  {
   "cell_type": "code",
   "execution_count": 42,
   "metadata": {},
   "outputs": [],
   "source": [
    "import pandas as pd\n",
    "from sklearn.metrics import mean_squared_error\n",
    "from sqlalchemy import create_engine\n",
    "import numpy as np\n",
    "from numpy import array\n",
    "from tensorflow.keras.models import Sequential\n",
    "from tensorflow.keras.layers import Dense\n",
    "from tensorflow.keras.layers import GRU\n",
    "from tensorflow.keras.layers import Dropout\n",
    "from tensorflow.keras.models import load_model\n",
    "from sklearn.preprocessing import MinMaxScaler\n",
    "import math"
   ]
  },
  {
   "cell_type": "code",
   "execution_count": null,
   "metadata": {},
   "outputs": [
    {
     "name": "stdout",
     "output_type": "stream",
     "text": [
      "4/4 [==============================] - 13s 3s/step\n",
      "[[28903.055]\n",
      " [28510.844]\n",
      " [28487.266]\n",
      " [28985.018]\n",
      " [29904.867]]\n"
     ]
    }
   ],
   "source": [
    "# Using time_step = 22690 as expected by the model\n",
    "time_step = 22690\n",
    "if len(train_data) > time_step and len(test_data) > 0 :\n",
    "    X_train, y_train = create_dataset(train_data, time_step)\n",
    "    # X_test, y_test = create_dataset(test_data, time_step)\n",
    "\n",
    "    # Reshape for the model input\n",
    "    X_train = X_train.reshape(X_train.shape[0], X_train.shape[1], 1)\n",
    "    # X_test = X_test.reshape(X_test.shape[0], X_test.shape[1], 1)\n",
    "\n",
    "     # Load the pre-trained model\n",
    "    new_model = load_model('model.h5')\n",
    "    \n",
    "    # Generate predictions and inverse transform to original scale\n",
    "    train_predict = new_model.predict(X_train)\n",
    "    # test_predict = new_model.predict(X_test)\n",
    "\n",
    "    train_predict = scaler.inverse_transform(train_predict)\n",
    "    # test_predict = scaler.inverse_transform(test_predict)\n",
    "\n",
    "    # Calculate RMSE\n",
    "    train_rmse = math.sqrt(mean_squared_error(y_train, train_predict))\n",
    "    # test_rmse = math.sqrt(mean_squared_error(y_test, test_predict))\n",
    "\n",
    "    # Forecast future values\n",
    "    x_input = train_data[-time_step:].reshape(1, -1)\n",
    "    temp_input = x_input[0].tolist()\n",
    "    \n",
    "    lst_output = []\n",
    "    i = 0\n",
    "    while i < 5:\n",
    "        x_input = np.array(temp_input[-time_step:]).reshape((1, time_step, 1))\n",
    "        yhat = new_model.predict(x_input, verbose=0)\n",
    "        temp_input.append(yhat[0][0])\n",
    "        lst_output.append(yhat[0][0])\n",
    "        i += 1\n",
    "\n",
    "    # Inverse transform the forecasted results\n",
    "    result = scaler.inverse_transform(np.array(lst_output).reshape(-1, 1))\n",
    "    print(result)"
   ]
  },
  {
   "cell_type": "code",
   "execution_count": null,
   "metadata": {},
   "outputs": [],
   "source": []
  },
  {
   "cell_type": "code",
   "execution_count": 46,
   "metadata": {},
   "outputs": [],
   "source": [
    "# # Check if train and test data are sufficient\n",
    "# time_step=22690\n",
    "# if len(train_data) > time_step and len(test_data) > 0:\n",
    "#     X_train, y_train = create_dataset(train_data, time_step)\n",
    "#     X_test, y_test = create_dataset(test_data, time_step)\n",
    "\n",
    "#     print(X_train.size, X_test.size)\n",
    "\n",
    "#     if X_train.size > 0 and X_test.size > 0: # Added validation for the datasets\n",
    "#         # Reshape for the model input\n",
    "#         X_train = X_train.reshape(X_train.shape[0], X_train.shape[1], 1)\n",
    "#         X_test = X_test.reshape(X_test.shape[0], X_test.shape[1], 1)\n",
    "\n",
    "#         # Load the pre-trained model\n",
    "#         new_model = load_model('model.h5')\n",
    "\n",
    "#         # Generate predictions and inverse transform to original scale\n",
    "#         train_predict = new_model.predict(X_train)\n",
    "#         test_predict = new_model.predict(X_test)\n",
    "\n",
    "#         train_predict = scaler.inverse_transform(train_predict)\n",
    "#         test_predict = scaler.inverse_transform(test_predict)\n",
    "\n",
    "#         # Calculate RMSE\n",
    "#         train_rmse = math.sqrt(mean_squared_error(y_train, train_predict))\n",
    "#         test_rmse = math.sqrt(mean_squared_error(y_test, test_predict))\n",
    "\n",
    "#         print(\"Train RMSE:\", train_rmse)\n",
    "#         print(\"Test RMSE:\", test_rmse)\n",
    "\n",
    "#         # Forecast future values\n",
    "#         x_input = test_data[-time_step:].reshape(1, -1) if len(test_data) >= time_step else np.array(test_data).reshape(1, -1)\n",
    "#         temp_input = x_input[0].tolist()\n",
    "        \n",
    "#         lst_output = []\n",
    "#         i = 0\n",
    "#         while i < 5:\n",
    "#             x_input = np.array(temp_input[-time_step:]).reshape((1, time_step, 1))\n",
    "#             yhat = new_model.predict(x_input, verbose=0)\n",
    "#             temp_input.append(yhat[0][0])\n",
    "#             lst_output.append(yhat[0][0])\n",
    "#             i += 1\n",
    "\n",
    "#         # Inverse transform the forecasted results\n",
    "#         result = scaler.inverse_transform(np.array(lst_output).reshape(-1, 1))\n",
    "#         print(\"Forecasted results:\", result)\n",
    "\n",
    "#     else:\n",
    "#         print(\"Training or testing set is empty after dataset creation.\")\n",
    "# else:\n",
    "#     print(\"Insufficient data for training or testing.\")"
   ]
  }
 ],
 "metadata": {
  "kernelspec": {
   "display_name": "Python 3",
   "language": "python",
   "name": "python3"
  },
  "language_info": {
   "codemirror_mode": {
    "name": "ipython",
    "version": 3
   },
   "file_extension": ".py",
   "mimetype": "text/x-python",
   "name": "python",
   "nbconvert_exporter": "python",
   "pygments_lexer": "ipython3",
   "version": "3.10.8"
  }
 },
 "nbformat": 4,
 "nbformat_minor": 2
}
